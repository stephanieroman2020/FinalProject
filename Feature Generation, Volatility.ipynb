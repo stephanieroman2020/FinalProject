{
 "cells": [
  {
   "cell_type": "markdown",
   "metadata": {},
   "source": [
    "## Volatility\n",
    "### Microstructure noise determination"
   ]
  },
  {
   "cell_type": "code",
   "execution_count": 1,
   "metadata": {},
   "outputs": [],
   "source": [
    "#Set up dependencies\n",
    "import pandas as pd\n",
    "import numpy as np\n",
    "import io\n",
    "import requests\n",
    "from datetime import datetime, timedelta"
   ]
  },
  {
   "cell_type": "code",
   "execution_count": 2,
   "metadata": {},
   "outputs": [],
   "source": [
    "spx_df = pd.read_csv(\"Cleaned_SPX_Data.csv\")\n",
    "spx_df = spx_df.drop(columns=['Unnamed: 0'])\n",
    "tweet_df = pd.read_csv(\"mergedata_%change.csv\")\n",
    "tweet_df = tweet_df.drop(columns=['Unnamed: 0','Source'])\n",
    "tweet_df = tweet_df.rename(columns={\"Date Ti\": \"Date T_0\", \"SPX Ti\": \"SPX T_0\", \"Date Tf\": \"Date T_5\", \"SPX Tf\": \"SPX T_5\"}) "
   ]
  },
  {
   "cell_type": "code",
   "execution_count": 3,
   "metadata": {},
   "outputs": [
    {
     "data": {
      "text/html": [
       "<div>\n",
       "<style scoped>\n",
       "    .dataframe tbody tr th:only-of-type {\n",
       "        vertical-align: middle;\n",
       "    }\n",
       "\n",
       "    .dataframe tbody tr th {\n",
       "        vertical-align: top;\n",
       "    }\n",
       "\n",
       "    .dataframe thead th {\n",
       "        text-align: right;\n",
       "    }\n",
       "</style>\n",
       "<table border=\"1\" class=\"dataframe\">\n",
       "  <thead>\n",
       "    <tr style=\"text-align: right;\">\n",
       "      <th></th>\n",
       "      <th>Date</th>\n",
       "      <th>Close</th>\n",
       "    </tr>\n",
       "  </thead>\n",
       "  <tbody>\n",
       "    <tr>\n",
       "      <th>0</th>\n",
       "      <td>20170102 1801</td>\n",
       "      <td>2243.00</td>\n",
       "    </tr>\n",
       "    <tr>\n",
       "      <th>1</th>\n",
       "      <td>20170102 1802</td>\n",
       "      <td>2243.25</td>\n",
       "    </tr>\n",
       "    <tr>\n",
       "      <th>2</th>\n",
       "      <td>20170102 1803</td>\n",
       "      <td>2243.00</td>\n",
       "    </tr>\n",
       "    <tr>\n",
       "      <th>3</th>\n",
       "      <td>20170102 1804</td>\n",
       "      <td>2243.75</td>\n",
       "    </tr>\n",
       "    <tr>\n",
       "      <th>4</th>\n",
       "      <td>20170102 1805</td>\n",
       "      <td>2243.75</td>\n",
       "    </tr>\n",
       "  </tbody>\n",
       "</table>\n",
       "</div>"
      ],
      "text/plain": [
       "            Date    Close\n",
       "0  20170102 1801  2243.00\n",
       "1  20170102 1802  2243.25\n",
       "2  20170102 1803  2243.00\n",
       "3  20170102 1804  2243.75\n",
       "4  20170102 1805  2243.75"
      ]
     },
     "execution_count": 3,
     "metadata": {},
     "output_type": "execute_result"
    }
   ],
   "source": [
    "spx_df.head()"
   ]
  },
  {
   "cell_type": "code",
   "execution_count": 4,
   "metadata": {},
   "outputs": [
    {
     "data": {
      "text/plain": [
       "2955"
      ]
     },
     "execution_count": 4,
     "metadata": {},
     "output_type": "execute_result"
    }
   ],
   "source": [
    "tweet_df.head()\n",
    "len(tweet_df)"
   ]
  },
  {
   "cell_type": "code",
   "execution_count": 5,
   "metadata": {},
   "outputs": [
    {
     "data": {
      "text/plain": [
       "-0.21357410029805904"
      ]
     },
     "execution_count": 5,
     "metadata": {},
     "output_type": "execute_result"
    }
   ],
   "source": [
    "np.log(42/52)"
   ]
  },
  {
   "cell_type": "code",
   "execution_count": 44,
   "metadata": {},
   "outputs": [
    {
     "name": "stdout",
     "output_type": "stream",
     "text": [
      "2955\n"
     ]
    }
   ],
   "source": [
    "#Create arrays of time 5 prior to +6 minutes after Tweet\n",
    "neg_time = [-5, -4, -3, -2, -1, 0]\n",
    "pos_time = [1, 2, 3, 4, 5, 6]\n",
    "\n",
    "t_list_sub_5 = []\n",
    "t_list_sub_4 = []\n",
    "t_list_sub_3 = []\n",
    "t_list_sub_2 = []\n",
    "t_list_sub_1 = []\n",
    "t_list_sub_0 = []\n",
    "t_list_plus_1 = []\n",
    "t_list_plus_2 = []\n",
    "t_list_plus_3 = []\n",
    "t_list_plus_4 = []\n",
    "t_list_plus_5 = []\n",
    "t_list_plus_6 = []\n",
    "\n",
    "\n",
    "for row, index in tweet_df.iterrows():\n",
    "    t_sub_5 = (datetime.strptime(index['Date T_0'], '%Y%m%d %H%M') + timedelta(minutes= -5)).strftime('%Y%m%d %H%M')\n",
    "    t_list_sub_5.append(t_sub_5)\n",
    "    t_sub_4 = (datetime.strptime(index['Date T_0'], '%Y%m%d %H%M') + timedelta(minutes= -4)).strftime('%Y%m%d %H%M')\n",
    "    t_list_sub_4.append(t_sub_4)\n",
    "    t_sub_3 = (datetime.strptime(index['Date T_0'], '%Y%m%d %H%M') + timedelta(minutes= -3)).strftime('%Y%m%d %H%M')\n",
    "    t_list_sub_3.append(t_sub_3)\n",
    "    t_sub_2 = (datetime.strptime(index['Date T_0'], '%Y%m%d %H%M') + timedelta(minutes= -2)).strftime('%Y%m%d %H%M')\n",
    "    t_list_sub_2.append(t_sub_2)\n",
    "    t_sub_1 = (datetime.strptime(index['Date T_0'], '%Y%m%d %H%M') + timedelta(minutes= -1)).strftime('%Y%m%d %H%M')\n",
    "    t_list_sub_1.append(t_sub_1)\n",
    "    t_sub_0 = (datetime.strptime(index['Date T_0'], '%Y%m%d %H%M')).strftime('%Y%m%d %H%M')\n",
    "    t_list_sub_0.append(t_sub_0)\n",
    "               \n",
    "    t_plus_1 = (datetime.strptime(index['Date T_0'], '%Y%m%d %H%M') + timedelta(minutes= 1)).strftime('%Y%m%d %H%M')\n",
    "    t_list_plus_1.append(t_plus_1)\n",
    "    t_plus_2 = (datetime.strptime(index['Date T_0'], '%Y%m%d %H%M') + timedelta(minutes= 2)).strftime('%Y%m%d %H%M')\n",
    "    t_list_plus_2.append(t_plus_2) \n",
    "    t_plus_3 = (datetime.strptime(index['Date T_0'], '%Y%m%d %H%M') + timedelta(minutes= 3)).strftime('%Y%m%d %H%M')\n",
    "    t_list_plus_3.append(t_plus_3)\n",
    "    t_plus_4 = (datetime.strptime(index['Date T_0'], '%Y%m%d %H%M') + timedelta(minutes= 4)).strftime('%Y%m%d %H%M')\n",
    "    t_list_plus_4.append(t_plus_4)\n",
    "    t_plus_5 = (datetime.strptime(index['Date T_0'], '%Y%m%d %H%M') + timedelta(minutes= 5)).strftime('%Y%m%d %H%M')\n",
    "    t_list_plus_5.append(t_plus_5)\n",
    "    t_plus_6 = (datetime.strptime(index['Date T_0'], '%Y%m%d %H%M') + timedelta(minutes= 6)).strftime('%Y%m%d %H%M')\n",
    "    t_list_plus_6.append(t_plus_6) \n",
    "        \n",
    "print(len(t_list_sub_5))"
   ]
  },
  {
   "cell_type": "code",
   "execution_count": 43,
   "metadata": {},
   "outputs": [
    {
     "data": {
      "text/plain": [
       "[]"
      ]
     },
     "execution_count": 43,
     "metadata": {},
     "output_type": "execute_result"
    }
   ],
   "source": [
    "t_list_sub_2"
   ]
  },
  {
   "cell_type": "code",
   "execution_count": 46,
   "metadata": {},
   "outputs": [
    {
     "name": "stdout",
     "output_type": "stream",
     "text": [
      "Vol List 2 of 11 Complete\n",
      "Vol List 3 of 11 Complete\n",
      "Vol List 4 of 11 Complete\n",
      "Vol List 5 of 11 Complete\n",
      "Vol List 6 of 11 Complete\n",
      "Vol List 7 of 11 Complete\n",
      "Vol List 8 of 11 Complete\n",
      "Vol List 9 of 11 Complete\n",
      "Vol List 10 of 11 Complete\n",
      "Vol List 11 of 11 Complete\n"
     ]
    }
   ],
   "source": [
    "# vol_sub_54_list = []\n",
    "vol_sub_43_list = []\n",
    "vol_sub_32_list = []\n",
    "vol_sub_21_list = []\n",
    "vol_sub_10_list = []\n",
    "vol_sub_01_list = []\n",
    "vol_plus_01_list = []\n",
    "vol_plus_12_list = []\n",
    "vol_plus_23_list = []\n",
    "vol_plus_34_list = []\n",
    "vol_plus_45_list = []\n",
    "vol_plus_56_list = []\n",
    "\n",
    "\n",
    "# for t_sub_5, t_sub_4 in zip(t_list_sub_5, t_list_sub_4):\n",
    "#     try:\n",
    "#         spx_sub_5 = spx_df.loc[spx_df['Date'] == t_sub_5, 'Close'].iloc[0]\n",
    "#         spx_sub_4 = spx_df.loc[spx_df['Date'] == t_sub_4, 'Close'].iloc[0]\n",
    "#         vol_sub_54 = np.log(spx_sub_4 / spx_sub_5)\n",
    "#         print(vol_sub_54)\n",
    "#         vol_sub_54_list.append(vol_sub_54)\n",
    "#     except IndexError:\n",
    "#         vol_sub_54_list.append(\"No SPX data avail.\")\n",
    "#         print(\"No SPX data avail.\")\n",
    "\n",
    "\n",
    "for t_sub_4, t_sub_3 in zip(t_list_sub_4, t_list_sub_3):\n",
    "    try:\n",
    "        spx_sub_4 = spx_df.loc[spx_df['Date'] == t_sub_4, 'Close'].iloc[0]\n",
    "        spx_sub_3 = spx_df.loc[spx_df['Date'] == t_sub_3, 'Close'].iloc[0]\n",
    "        vol_sub_43 = np.log(spx_sub_3 / spx_sub_4)\n",
    "        vol_sub_43_list.append(vol_sub_43)\n",
    "    except IndexError:\n",
    "        vol_sub_43_list.append(\"No SPX data avail.\")\n",
    "print(f'Vol List 2 of 11 Complete')\n",
    "\n",
    "for t_sub_3, t_sub_2 in zip(t_list_sub_3, t_list_sub_2):\n",
    "    try:\n",
    "        spx_sub_3 = spx_df.loc[spx_df['Date'] == t_sub_3, 'Close'].iloc[0]\n",
    "        spx_sub_2 = spx_df.loc[spx_df['Date'] == t_sub_2, 'Close'].iloc[0]\n",
    "        vol_sub_32 = np.log(spx_sub_2 / spx_sub_3)\n",
    "        vol_sub_32_list.append(vol_sub_32)\n",
    "    except IndexError:\n",
    "        vol_sub_32_list.append(\"No SPX data avail.\")\n",
    "print(f'Vol List 3 of 11 Complete')\n",
    "\n",
    "for t_sub_2, t_sub_1 in zip(t_list_sub_2, t_list_sub_1):\n",
    "    try:\n",
    "        spx_sub_2 = spx_df.loc[spx_df['Date'] == t_sub_2, 'Close'].iloc[0]\n",
    "        spx_sub_1 = spx_df.loc[spx_df['Date'] == t_sub_1, 'Close'].iloc[0]\n",
    "        vol_sub_21 = np.log(spx_sub_1 / spx_sub_2)\n",
    "        vol_sub_21_list.append(vol_sub_21)\n",
    "    except IndexError:\n",
    "        vol_sub_21_list.append(\"No SPX data avail.\")\n",
    "print(f'Vol List 4 of 11 Complete')\n",
    "\n",
    "for t_sub_1, t_sub_0 in zip(t_list_sub_1, t_list_sub_0):\n",
    "    try:\n",
    "        spx_sub_1 = spx_df.loc[spx_df['Date'] == t_sub_1, 'Close'].iloc[0]\n",
    "        spx_sub_0 = spx_df.loc[spx_df['Date'] == t_sub_0, 'Close'].iloc[0]\n",
    "        vol_sub_10 = np.log(spx_sub_0 / spx_sub_1)\n",
    "        vol_sub_10_list.append(vol_sub_10)\n",
    "    except IndexError:\n",
    "        vol_sub_10_list.append(\"No SPX data avail.\")\n",
    "print(f'Vol List 5 of 11 Complete')\n",
    "\n",
    "for t_sub_0, t_plus_1 in zip(t_list_sub_0, t_list_plus_1):\n",
    "    try:\n",
    "        spx_sub_0 = spx_df.loc[spx_df['Date'] == t_sub_0, 'Close'].iloc[0]\n",
    "        spx_plus_1 = spx_df.loc[spx_df['Date'] == t_plus_1, 'Close'].iloc[0]\n",
    "        vol_plus_01 = np.log(spx_plus_1 / spx_sub_0)\n",
    "        vol_plus_01_list.append(vol_plus_01)\n",
    "    except IndexError:\n",
    "        vol_plus_01_list.append(\"No SPX data avail.\")\n",
    "print(f'Vol List 6 of 11 Complete')\n",
    "\n",
    "for t_plus_1, t_plus_2 in zip(t_list_plus_1, t_list_plus_2):\n",
    "    try:\n",
    "        spx_plus_1 = spx_df.loc[spx_df['Date'] == t_plus_1, 'Close'].iloc[0]\n",
    "        spx_plus_2 = spx_df.loc[spx_df['Date'] == t_plus_2, 'Close'].iloc[0]\n",
    "        vol_plus_12 = np.log(spx_plus_2 / spx_plus_1)\n",
    "        vol_plus_12_list.append(vol_plus_12)\n",
    "    except IndexError:\n",
    "        vol_plus_12_list.append(\"No SPX data avail.\")\n",
    "print(f'Vol List 7 of 11 Complete')\n",
    "\n",
    "for t_plus_2, t_plus_3 in zip(t_list_plus_2, t_list_plus_3):\n",
    "    try:\n",
    "        spx_plus_2 = spx_df.loc[spx_df['Date'] == t_plus_2, 'Close'].iloc[0]\n",
    "        spx_plus_3 = spx_df.loc[spx_df['Date'] == t_plus_3, 'Close'].iloc[0]\n",
    "        vol_plus_23 = np.log(spx_plus_3 / spx_plus_2)\n",
    "        vol_plus_23_list.append(vol_plus_23)\n",
    "    except IndexError:\n",
    "        vol_plus_23_list.append(\"No SPX data avail.\")\n",
    "print(f'Vol List 8 of 11 Complete')\n",
    "\n",
    "for t_plus_3, t_plus_4 in zip(t_list_plus_3, t_list_plus_4):\n",
    "    try:\n",
    "        spx_plus_3 = spx_df.loc[spx_df['Date'] == t_plus_3, 'Close'].iloc[0]\n",
    "        spx_plus_4 = spx_df.loc[spx_df['Date'] == t_plus_4, 'Close'].iloc[0]\n",
    "        vol_plus_34 = np.log(spx_plus_4 / spx_plus_3)\n",
    "        vol_plus_34_list.append(vol_plus_34)\n",
    "    except IndexError:\n",
    "        vol_plus_34_list.append(\"No SPX data avail.\")\n",
    "print(f'Vol List 9 of 11 Complete')\n",
    "\n",
    "for t_plus_4, t_plus_5 in zip(t_list_plus_4, t_list_plus_5):\n",
    "    try:\n",
    "        spx_plus_4 = spx_df.loc[spx_df['Date'] == t_plus_4, 'Close'].iloc[0]\n",
    "        spx_plus_5 = spx_df.loc[spx_df['Date'] == t_plus_5, 'Close'].iloc[0]\n",
    "        vol_plus_45 = np.log(spx_plus_5 / spx_plus_4)\n",
    "        vol_plus_45_list.append(vol_plus_45)\n",
    "    except IndexError:\n",
    "        vol_plus_45_list.append(\"No SPX data avail.\")\n",
    "print(f'Vol List 10 of 11 Complete')\n",
    "\n",
    "for t_plus_5, t_plus_6 in zip(t_list_plus_5, t_list_plus_6):\n",
    "    try:\n",
    "        spx_plus_5 = spx_df.loc[spx_df['Date'] == t_plus_5, 'Close'].iloc[0]\n",
    "        spx_plus_6 = spx_df.loc[spx_df['Date'] == t_plus_6, 'Close'].iloc[0]\n",
    "        vol_plus_56 = np.log(spx_plus_6 / spx_plus_5)\n",
    "        vol_plus_56_list.append(vol_plus_56)\n",
    "    except IndexError:\n",
    "        vol_plus_56_list.append(\"No SPX data avail.\")\n",
    "print('Vol List 11 of 11 Complete')"
   ]
  },
  {
   "cell_type": "markdown",
   "metadata": {},
   "source": [
    "##### spx_sub_5 = spx_df.loc[spx_df['Date'] == t_sub_5, 'Close'].iloc[0]\n",
    "\n",
    "print(t_sub_5)\n",
    "print(spx_sub_5)\n",
    "\n",
    "spx_sub_5 = spx_df.loc[spx_df['Date'] == t_sub_5, 'Close'].iloc[0]\n",
    "spx_sub_5"
   ]
  },
  {
   "cell_type": "code",
   "execution_count": 52,
   "metadata": {},
   "outputs": [
    {
     "name": "stdout",
     "output_type": "stream",
     "text": [
      "{'Vol -5 Mins Before Tweet': [0.0, -0.00011143923787093885, -0.00011156356345589146, 0.0], 'Vol -4 Mins Before Tweet': ['No SPX data avail.', 0.0, -0.00011157601127339085, 0.0003346533580231153], 'Vol -3 Mins Before Tweet': ['No SPX data avail.', -0.000111451657958756, -0.00011158846186880009, 0.0003345414026183912], 'Vol -2 Mins Before Tweet': ['No SPX data avail.', -0.00011146408081537711, -0.00011160091524334063, -0.00044608007876984136], 'Vol -1 Mins Before Tweet': [-0.00011140199421087216, 0.0, 0.00033476538838554703, -0.00011155111841563559], 'Vol @ Tweet': [], 'Vol 1 Mins After Tweet': ['No SPX data avail.', 0.0, 0.0, 0.00022308979456711704], 'Vol 2 Mins After Tweet': ['No SPX data avail.', 0.0, 0.0003346533580231153, -0.00011153867615151279], 'Vol 3 Mins After Tweet': ['No SPX data avail.', 0.000445781797196129, 0.0003345414026183912, 0.00011153867615155138], 'Vol 4 Mins After Tweet': ['No SPX data avail.', -0.00011142682055092624, -0.00044608007876984136, 0.0004460303374570626], 'Vol 5 Mins After Tweet': ['No SPX data avail.', -0.00011143923787093885, -0.00011155111841563559, 0.00011147650644183118], 'Vol 6 Mins After Tweet': [-0.00011140199421087216, -0.00033439224521596015, 0.00022308979456711704, -0.000334466807287676]}\n"
     ]
    }
   ],
   "source": [
    "print({\"Vol -5 Mins Before Tweet\" : vol_sub_54_list[0:4],\n",
    "       \"Vol -4 Mins Before Tweet\" : vol_sub_43_list[0:4],\n",
    "       \"Vol -3 Mins Before Tweet\" : vol_sub_32_list[0:4],\n",
    "       \"Vol -2 Mins Before Tweet\" : vol_sub_21_list[0:4],\n",
    "       \"Vol -1 Mins Before Tweet\" : vol_sub_10_list[0:4],\n",
    "       \"Vol @ Tweet\" : vol_sub_01_list[0:4],\n",
    "       \"Vol 1 Mins After Tweet\" : vol_plus_01_list[0:4],\n",
    "       \"Vol 2 Mins After Tweet\" : vol_plus_12_list[0:4],\n",
    "       \"Vol 3 Mins After Tweet\" : vol_plus_23_list[0:4],\n",
    "       \"Vol 4 Mins After Tweet\" : vol_plus_34_list[0:4], \n",
    "       \"Vol 5 Mins After Tweet\" : vol_plus_45_list[0:4],\n",
    "       \"Vol 6 Mins After Tweet\" : vol_plus_56_list[0:4]})"
   ]
  },
  {
   "cell_type": "code",
   "execution_count": 26,
   "metadata": {},
   "outputs": [
    {
     "data": {
      "text/plain": [
       "'20181230 2159'"
      ]
     },
     "execution_count": 26,
     "metadata": {},
     "output_type": "execute_result"
    }
   ],
   "source": [
    "vol_sub_5\n",
    "\n",
    "    A  B\n",
    "0  p1  1\n",
    "1  p1  2\n",
    "2  p3  3\n",
    "3  p2  4\n",
    "df.loc[df['B'] == 3, 'A'].iloc[0]"
   ]
  },
  {
   "cell_type": "code",
   "execution_count": 38,
   "metadata": {},
   "outputs": [
    {
     "data": {
      "text/plain": [
       "datetime.datetime(2018, 12, 30, 21, 54)"
      ]
     },
     "execution_count": 38,
     "metadata": {},
     "output_type": "execute_result"
    }
   ],
   "source": [
    "from datetime import datetime\n",
    "\n",
    "datetime_test = datetime.strptime('20181230 2159', '%Y%m%d %H%M')\n",
    "datetime_test  - timedelta(minutes=  5)"
   ]
  },
  {
   "cell_type": "code",
   "execution_count": null,
   "metadata": {},
   "outputs": [],
   "source": []
  }
 ],
 "metadata": {
  "kernelspec": {
   "display_name": "Python 3",
   "language": "python",
   "name": "python3"
  },
  "language_info": {
   "codemirror_mode": {
    "name": "ipython",
    "version": 3
   },
   "file_extension": ".py",
   "mimetype": "text/x-python",
   "name": "python",
   "nbconvert_exporter": "python",
   "pygments_lexer": "ipython3",
   "version": "3.7.4"
  }
 },
 "nbformat": 4,
 "nbformat_minor": 2
}
