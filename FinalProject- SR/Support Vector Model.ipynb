{
 "cells": [
  {
   "cell_type": "markdown",
   "metadata": {},
   "source": [
    "# Load CSVs"
   ]
  },
  {
   "cell_type": "code",
   "execution_count": 1,
   "metadata": {},
   "outputs": [],
   "source": [
    "#Load Dependencies\n",
    "import matplotlib.pyplot as plt\n",
    "from sklearn.neighbors import KNeighborsClassifier\n",
    "import pandas as pd\n",
    "import numpy as np\n",
    "import os"
   ]
  },
  {
   "cell_type": "code",
   "execution_count": 2,
   "metadata": {},
   "outputs": [
    {
     "data": {
      "text/html": [
       "<div>\n",
       "<style scoped>\n",
       "    .dataframe tbody tr th:only-of-type {\n",
       "        vertical-align: middle;\n",
       "    }\n",
       "\n",
       "    .dataframe tbody tr th {\n",
       "        vertical-align: top;\n",
       "    }\n",
       "\n",
       "    .dataframe thead th {\n",
       "        text-align: right;\n",
       "    }\n",
       "</style>\n",
       "<table border=\"1\" class=\"dataframe\">\n",
       "  <thead>\n",
       "    <tr style=\"text-align: right;\">\n",
       "      <th></th>\n",
       "      <th>Unnamed: 0</th>\n",
       "      <th>Pre_Tweet_Vol</th>\n",
       "      <th>Post_Tweet_Vol</th>\n",
       "      <th>Vol Change</th>\n",
       "      <th>Tweet</th>\n",
       "      <th>Tweet Time</th>\n",
       "    </tr>\n",
       "  </thead>\n",
       "  <tbody>\n",
       "    <tr>\n",
       "      <th>0</th>\n",
       "      <td>551</td>\n",
       "      <td>-0.010892</td>\n",
       "      <td>0.001412</td>\n",
       "      <td>0.012304</td>\n",
       "      <td>Just had a  very good tele-conference with Nat...</td>\n",
       "      <td>20200316 1332</td>\n",
       "    </tr>\n",
       "    <tr>\n",
       "      <th>1</th>\n",
       "      <td>915</td>\n",
       "      <td>-0.008380</td>\n",
       "      <td>0.003885</td>\n",
       "      <td>0.012264</td>\n",
       "      <td>The Federal Reserve is cutting but must furthe...</td>\n",
       "      <td>20200303 1051</td>\n",
       "    </tr>\n",
       "    <tr>\n",
       "      <th>2</th>\n",
       "      <td>465</td>\n",
       "      <td>0.008989</td>\n",
       "      <td>0.018959</td>\n",
       "      <td>0.009970</td>\n",
       "      <td>Thank you @HerschelWalker! https://t.co/qBXOa4...</td>\n",
       "      <td>20200318 1550</td>\n",
       "    </tr>\n",
       "    <tr>\n",
       "      <th>3</th>\n",
       "      <td>7269</td>\n",
       "      <td>-0.007727</td>\n",
       "      <td>0.001513</td>\n",
       "      <td>0.009240</td>\n",
       "      <td>Today we honor all of our Country’s Purple Hea...</td>\n",
       "      <td>20190807 0946</td>\n",
       "    </tr>\n",
       "    <tr>\n",
       "      <th>4</th>\n",
       "      <td>1031</td>\n",
       "      <td>-0.005200</td>\n",
       "      <td>0.003462</td>\n",
       "      <td>0.008661</td>\n",
       "      <td>“You go around Pennsylvania and you see Trump ...</td>\n",
       "      <td>20200228 1030</td>\n",
       "    </tr>\n",
       "  </tbody>\n",
       "</table>\n",
       "</div>"
      ],
      "text/plain": [
       "   Unnamed: 0  Pre_Tweet_Vol  Post_Tweet_Vol  Vol Change  \\\n",
       "0         551      -0.010892        0.001412    0.012304   \n",
       "1         915      -0.008380        0.003885    0.012264   \n",
       "2         465       0.008989        0.018959    0.009970   \n",
       "3        7269      -0.007727        0.001513    0.009240   \n",
       "4        1031      -0.005200        0.003462    0.008661   \n",
       "\n",
       "                                               Tweet     Tweet Time  \n",
       "0  Just had a  very good tele-conference with Nat...  20200316 1332  \n",
       "1  The Federal Reserve is cutting but must furthe...  20200303 1051  \n",
       "2  Thank you @HerschelWalker! https://t.co/qBXOa4...  20200318 1550  \n",
       "3  Today we honor all of our Country’s Purple Hea...  20190807 0946  \n",
       "4  “You go around Pennsylvania and you see Trump ...  20200228 1030  "
      ]
     },
     "execution_count": 2,
     "metadata": {},
     "output_type": "execute_result"
    }
   ],
   "source": [
    "#Load CSV\n",
    "# df = pd.read_csv(\"../mergedata_%change.csv\")\n",
    "df = pd.read_csv(\"../PRE_POST_VOL\")\n",
    "df.head()"
   ]
  },
  {
   "cell_type": "code",
   "execution_count": 3,
   "metadata": {},
   "outputs": [
    {
     "data": {
      "text/plain": [
       "(16715, 7)"
      ]
     },
     "execution_count": 3,
     "metadata": {},
     "output_type": "execute_result"
    }
   ],
   "source": [
    "#Load Tweet df\n",
    "try:\n",
    "    df_tweet_sent = pd.read_csv(\"../FinalProject- SR/Resources/FinalTrumpTweet3.csv\")\n",
    "except UnicodeDecodeError:\n",
    "    pass\n",
    "\n",
    "df_tweet_sent.shape"
   ]
  },
  {
   "cell_type": "code",
   "execution_count": 4,
   "metadata": {},
   "outputs": [
    {
     "data": {
      "text/html": [
       "<div>\n",
       "<style scoped>\n",
       "    .dataframe tbody tr th:only-of-type {\n",
       "        vertical-align: middle;\n",
       "    }\n",
       "\n",
       "    .dataframe tbody tr th {\n",
       "        vertical-align: top;\n",
       "    }\n",
       "\n",
       "    .dataframe thead th {\n",
       "        text-align: right;\n",
       "    }\n",
       "</style>\n",
       "<table border=\"1\" class=\"dataframe\">\n",
       "  <thead>\n",
       "    <tr style=\"text-align: right;\">\n",
       "      <th></th>\n",
       "      <th>Unnamed: 0</th>\n",
       "      <th>Pre_Tweet_Vol</th>\n",
       "      <th>Post_Tweet_Vol</th>\n",
       "      <th>Vol Change</th>\n",
       "      <th>Tweet</th>\n",
       "      <th>Tweet Time</th>\n",
       "      <th>Market Movement</th>\n",
       "    </tr>\n",
       "  </thead>\n",
       "  <tbody>\n",
       "    <tr>\n",
       "      <th>0</th>\n",
       "      <td>551</td>\n",
       "      <td>-0.010892</td>\n",
       "      <td>0.001412</td>\n",
       "      <td>0.012304</td>\n",
       "      <td>Just had a  very good tele-conference with Nat...</td>\n",
       "      <td>20200316 1332</td>\n",
       "      <td>1</td>\n",
       "    </tr>\n",
       "    <tr>\n",
       "      <th>1</th>\n",
       "      <td>915</td>\n",
       "      <td>-0.008380</td>\n",
       "      <td>0.003885</td>\n",
       "      <td>0.012264</td>\n",
       "      <td>The Federal Reserve is cutting but must furthe...</td>\n",
       "      <td>20200303 1051</td>\n",
       "      <td>1</td>\n",
       "    </tr>\n",
       "    <tr>\n",
       "      <th>2</th>\n",
       "      <td>465</td>\n",
       "      <td>0.008989</td>\n",
       "      <td>0.018959</td>\n",
       "      <td>0.009970</td>\n",
       "      <td>Thank you @HerschelWalker! https://t.co/qBXOa4...</td>\n",
       "      <td>20200318 1550</td>\n",
       "      <td>1</td>\n",
       "    </tr>\n",
       "    <tr>\n",
       "      <th>3</th>\n",
       "      <td>7269</td>\n",
       "      <td>-0.007727</td>\n",
       "      <td>0.001513</td>\n",
       "      <td>0.009240</td>\n",
       "      <td>Today we honor all of our Country’s Purple Hea...</td>\n",
       "      <td>20190807 0946</td>\n",
       "      <td>1</td>\n",
       "    </tr>\n",
       "    <tr>\n",
       "      <th>4</th>\n",
       "      <td>1031</td>\n",
       "      <td>-0.005200</td>\n",
       "      <td>0.003462</td>\n",
       "      <td>0.008661</td>\n",
       "      <td>“You go around Pennsylvania and you see Trump ...</td>\n",
       "      <td>20200228 1030</td>\n",
       "      <td>1</td>\n",
       "    </tr>\n",
       "  </tbody>\n",
       "</table>\n",
       "</div>"
      ],
      "text/plain": [
       "   Unnamed: 0  Pre_Tweet_Vol  Post_Tweet_Vol  Vol Change  \\\n",
       "0         551      -0.010892        0.001412    0.012304   \n",
       "1         915      -0.008380        0.003885    0.012264   \n",
       "2         465       0.008989        0.018959    0.009970   \n",
       "3        7269      -0.007727        0.001513    0.009240   \n",
       "4        1031      -0.005200        0.003462    0.008661   \n",
       "\n",
       "                                               Tweet     Tweet Time  \\\n",
       "0  Just had a  very good tele-conference with Nat...  20200316 1332   \n",
       "1  The Federal Reserve is cutting but must furthe...  20200303 1051   \n",
       "2  Thank you @HerschelWalker! https://t.co/qBXOa4...  20200318 1550   \n",
       "3  Today we honor all of our Country’s Purple Hea...  20190807 0946   \n",
       "4  “You go around Pennsylvania and you see Trump ...  20200228 1030   \n",
       "\n",
       "   Market Movement  \n",
       "0                1  \n",
       "1                1  \n",
       "2                1  \n",
       "3                1  \n",
       "4                1  "
      ]
     },
     "execution_count": 4,
     "metadata": {},
     "output_type": "execute_result"
    }
   ],
   "source": [
    "#Bin volatility movement into +1,0,-1 and establish threshold\n",
    "\n",
    "market_movements = []\n",
    "pos_threshold = 0.0003\n",
    "neg_threshold = pos_threshold * -1\n",
    "\n",
    "for index, row in df.iterrows():\n",
    "    if row['Vol Change'] >= pos_threshold:\n",
    "        market_movement = 1\n",
    "        market_movements.append(market_movement)\n",
    "    elif row['Vol Change'] <= neg_threshold:\n",
    "        market_movement = -1\n",
    "        market_movements.append(market_movement)\n",
    "    else:\n",
    "        market_movement = 0\n",
    "        market_movements.append(market_movement)\n",
    "\n",
    "#Add new list as column to df\n",
    "df['Market Movement'] = market_movements\n",
    "df.head()"
   ]
  },
  {
   "cell_type": "code",
   "execution_count": 5,
   "metadata": {},
   "outputs": [],
   "source": [
    "from textblob import TextBlob\n",
    "import re\n",
    "\n",
    "def clean_tweet(tweet):\n",
    "    '''\n",
    "    Utility function to clean the text in a tweet by removing \n",
    "    links and special characters using regex.\n",
    "    '''\n",
    "    return ' '.join(re.sub(\"(@[A-Za-z0-9]+)|([^0-9A-Za-z \\t])|(\\w+:\\/\\/\\S+)\", \" \", tweet).split())\n",
    "\n",
    "def analize_sentiment(tweet):\n",
    "    '''\n",
    "    Utility function to classify the polarity of a tweet\n",
    "    using textblob.\n",
    "    '''\n",
    "    analysis = TextBlob(clean_tweet(tweet))\n",
    "    if analysis.sentiment.polarity > 0:\n",
    "        return 1\n",
    "    elif analysis.sentiment.polarity == 0:\n",
    "        return 0\n",
    "    else:\n",
    "        return -1\n",
    "    \n",
    "#1 means positive, 0 means neutral, -1 means negative"
   ]
  },
  {
   "cell_type": "code",
   "execution_count": 6,
   "metadata": {},
   "outputs": [],
   "source": [
    "df['SA'] = np.array([ analize_sentiment(tweet) for tweet in df['Tweet'] ])"
   ]
  },
  {
   "cell_type": "code",
   "execution_count": 7,
   "metadata": {},
   "outputs": [
    {
     "data": {
      "text/plain": [
       "(2309, 8)"
      ]
     },
     "execution_count": 7,
     "metadata": {},
     "output_type": "execute_result"
    }
   ],
   "source": [
    "df.shape"
   ]
  },
  {
   "cell_type": "code",
   "execution_count": 8,
   "metadata": {},
   "outputs": [
    {
     "data": {
      "text/html": [
       "<div>\n",
       "<style scoped>\n",
       "    .dataframe tbody tr th:only-of-type {\n",
       "        vertical-align: middle;\n",
       "    }\n",
       "\n",
       "    .dataframe tbody tr th {\n",
       "        vertical-align: top;\n",
       "    }\n",
       "\n",
       "    .dataframe thead th {\n",
       "        text-align: right;\n",
       "    }\n",
       "</style>\n",
       "<table border=\"1\" class=\"dataframe\">\n",
       "  <thead>\n",
       "    <tr style=\"text-align: right;\">\n",
       "      <th></th>\n",
       "      <th>Vol Change</th>\n",
       "      <th>Tweet</th>\n",
       "      <th>Tweet Time</th>\n",
       "      <th>Market Movement</th>\n",
       "      <th>SA</th>\n",
       "      <th>Retweets</th>\n",
       "      <th>Favorites</th>\n",
       "    </tr>\n",
       "  </thead>\n",
       "  <tbody>\n",
       "    <tr>\n",
       "      <th>0</th>\n",
       "      <td>0.012304</td>\n",
       "      <td>Just had a  very good tele-conference with Nat...</td>\n",
       "      <td>20200316 1332</td>\n",
       "      <td>1</td>\n",
       "      <td>1</td>\n",
       "      <td>17025.0</td>\n",
       "      <td>98450.0</td>\n",
       "    </tr>\n",
       "    <tr>\n",
       "      <th>1</th>\n",
       "      <td>0.012264</td>\n",
       "      <td>The Federal Reserve is cutting but must furthe...</td>\n",
       "      <td>20200303 1051</td>\n",
       "      <td>1</td>\n",
       "      <td>-1</td>\n",
       "      <td>19291.0</td>\n",
       "      <td>79414.0</td>\n",
       "    </tr>\n",
       "    <tr>\n",
       "      <th>2</th>\n",
       "      <td>0.009970</td>\n",
       "      <td>Thank you @HerschelWalker! https://t.co/qBXOa4...</td>\n",
       "      <td>20200318 1550</td>\n",
       "      <td>1</td>\n",
       "      <td>0</td>\n",
       "      <td>12501.0</td>\n",
       "      <td>57676.0</td>\n",
       "    </tr>\n",
       "    <tr>\n",
       "      <th>3</th>\n",
       "      <td>0.009240</td>\n",
       "      <td>Today we honor all of our Country’s Purple Hea...</td>\n",
       "      <td>20190807 0946</td>\n",
       "      <td>1</td>\n",
       "      <td>1</td>\n",
       "      <td>14234.0</td>\n",
       "      <td>56571.0</td>\n",
       "    </tr>\n",
       "    <tr>\n",
       "      <th>4</th>\n",
       "      <td>0.008661</td>\n",
       "      <td>“You go around Pennsylvania and you see Trump ...</td>\n",
       "      <td>20200228 1030</td>\n",
       "      <td>1</td>\n",
       "      <td>0</td>\n",
       "      <td>14015.0</td>\n",
       "      <td>57284.0</td>\n",
       "    </tr>\n",
       "  </tbody>\n",
       "</table>\n",
       "</div>"
      ],
      "text/plain": [
       "   Vol Change                                              Tweet  \\\n",
       "0    0.012304  Just had a  very good tele-conference with Nat...   \n",
       "1    0.012264  The Federal Reserve is cutting but must furthe...   \n",
       "2    0.009970  Thank you @HerschelWalker! https://t.co/qBXOa4...   \n",
       "3    0.009240  Today we honor all of our Country’s Purple Hea...   \n",
       "4    0.008661  “You go around Pennsylvania and you see Trump ...   \n",
       "\n",
       "      Tweet Time  Market Movement  SA  Retweets  Favorites  \n",
       "0  20200316 1332                1   1   17025.0    98450.0  \n",
       "1  20200303 1051                1  -1   19291.0    79414.0  \n",
       "2  20200318 1550                1   0   12501.0    57676.0  \n",
       "3  20190807 0946                1   1   14234.0    56571.0  \n",
       "4  20200228 1030                1   0   14015.0    57284.0  "
      ]
     },
     "execution_count": 8,
     "metadata": {},
     "output_type": "execute_result"
    }
   ],
   "source": [
    "# tokenize, then remove stopwords, ngrams, sentiment analysis feature selection\n",
    "#either truncate or append to vector\n",
    "data = df.merge(df_tweet_sent, left_on='Unnamed: 0', right_on='Unnamed: 0')\n",
    "data = data.drop(columns=['Pre_Tweet_Vol','Post_Tweet_Vol','source','is_retweet', 'created_at','text', 'Unnamed: 0'])\n",
    "data = data.rename(columns = {'retweet_count':'Retweets','favorite_count':'Favorites'})\n",
    "data.head()"
   ]
  },
  {
   "cell_type": "code",
   "execution_count": 9,
   "metadata": {},
   "outputs": [
    {
     "data": {
      "text/plain": [
       "(2309, 7)"
      ]
     },
     "execution_count": 9,
     "metadata": {},
     "output_type": "execute_result"
    }
   ],
   "source": [
    "data.shape"
   ]
  },
  {
   "cell_type": "code",
   "execution_count": 10,
   "metadata": {},
   "outputs": [
    {
     "data": {
      "text/html": [
       "<div>\n",
       "<style scoped>\n",
       "    .dataframe tbody tr th:only-of-type {\n",
       "        vertical-align: middle;\n",
       "    }\n",
       "\n",
       "    .dataframe tbody tr th {\n",
       "        vertical-align: top;\n",
       "    }\n",
       "\n",
       "    .dataframe thead th {\n",
       "        text-align: right;\n",
       "    }\n",
       "</style>\n",
       "<table border=\"1\" class=\"dataframe\">\n",
       "  <thead>\n",
       "    <tr style=\"text-align: right;\">\n",
       "      <th></th>\n",
       "      <th>Vol Change</th>\n",
       "      <th>Tweet</th>\n",
       "      <th>Tweet Time</th>\n",
       "      <th>Market Movement</th>\n",
       "      <th>SA</th>\n",
       "      <th>Retweets</th>\n",
       "      <th>Favorites</th>\n",
       "    </tr>\n",
       "  </thead>\n",
       "  <tbody>\n",
       "    <tr>\n",
       "      <th>0</th>\n",
       "      <td>0.012304</td>\n",
       "      <td>Just had a  very good tele-conference with Nat...</td>\n",
       "      <td>1332</td>\n",
       "      <td>1</td>\n",
       "      <td>1</td>\n",
       "      <td>17025.0</td>\n",
       "      <td>98450.0</td>\n",
       "    </tr>\n",
       "    <tr>\n",
       "      <th>1</th>\n",
       "      <td>0.012264</td>\n",
       "      <td>The Federal Reserve is cutting but must furthe...</td>\n",
       "      <td>1051</td>\n",
       "      <td>1</td>\n",
       "      <td>-1</td>\n",
       "      <td>19291.0</td>\n",
       "      <td>79414.0</td>\n",
       "    </tr>\n",
       "    <tr>\n",
       "      <th>2</th>\n",
       "      <td>0.009970</td>\n",
       "      <td>Thank you @HerschelWalker! https://t.co/qBXOa4...</td>\n",
       "      <td>1550</td>\n",
       "      <td>1</td>\n",
       "      <td>0</td>\n",
       "      <td>12501.0</td>\n",
       "      <td>57676.0</td>\n",
       "    </tr>\n",
       "    <tr>\n",
       "      <th>3</th>\n",
       "      <td>0.009240</td>\n",
       "      <td>Today we honor all of our Country’s Purple Hea...</td>\n",
       "      <td>0946</td>\n",
       "      <td>1</td>\n",
       "      <td>1</td>\n",
       "      <td>14234.0</td>\n",
       "      <td>56571.0</td>\n",
       "    </tr>\n",
       "    <tr>\n",
       "      <th>4</th>\n",
       "      <td>0.008661</td>\n",
       "      <td>“You go around Pennsylvania and you see Trump ...</td>\n",
       "      <td>1030</td>\n",
       "      <td>1</td>\n",
       "      <td>0</td>\n",
       "      <td>14015.0</td>\n",
       "      <td>57284.0</td>\n",
       "    </tr>\n",
       "  </tbody>\n",
       "</table>\n",
       "</div>"
      ],
      "text/plain": [
       "   Vol Change                                              Tweet Tweet Time  \\\n",
       "0    0.012304  Just had a  very good tele-conference with Nat...       1332   \n",
       "1    0.012264  The Federal Reserve is cutting but must furthe...       1051   \n",
       "2    0.009970  Thank you @HerschelWalker! https://t.co/qBXOa4...       1550   \n",
       "3    0.009240  Today we honor all of our Country’s Purple Hea...       0946   \n",
       "4    0.008661  “You go around Pennsylvania and you see Trump ...       1030   \n",
       "\n",
       "   Market Movement  SA  Retweets  Favorites  \n",
       "0                1   1   17025.0    98450.0  \n",
       "1                1  -1   19291.0    79414.0  \n",
       "2                1   0   12501.0    57676.0  \n",
       "3                1   1   14234.0    56571.0  \n",
       "4                1   0   14015.0    57284.0  "
      ]
     },
     "execution_count": 10,
     "metadata": {},
     "output_type": "execute_result"
    }
   ],
   "source": [
    "from datetime import datetime\n",
    "data['Tweet Time'] = data['Tweet Time'].str[9:14]\n",
    "data.head()"
   ]
  },
  {
   "cell_type": "markdown",
   "metadata": {},
   "source": [
    "## Count Vectorizer"
   ]
  },
  {
   "cell_type": "code",
   "execution_count": 12,
   "metadata": {},
   "outputs": [],
   "source": [
    "#Call out features\n",
    "features = data.columns\n",
    "features = data[['Tweet Time', 'Retweets', 'Favorites', 'SA']].copy()\n",
    "\n",
    "#State target output, name the %change bins\n",
    "target = data[\"Market Movement\"]\n",
    "target_names = [\"Positive\", \"No Effect\", \"Negative\"]"
   ]
  },
  {
   "cell_type": "code",
   "execution_count": 13,
   "metadata": {},
   "outputs": [
    {
     "data": {
      "text/html": [
       "<div>\n",
       "<style scoped>\n",
       "    .dataframe tbody tr th:only-of-type {\n",
       "        vertical-align: middle;\n",
       "    }\n",
       "\n",
       "    .dataframe tbody tr th {\n",
       "        vertical-align: top;\n",
       "    }\n",
       "\n",
       "    .dataframe thead th {\n",
       "        text-align: right;\n",
       "    }\n",
       "</style>\n",
       "<table border=\"1\" class=\"dataframe\">\n",
       "  <thead>\n",
       "    <tr style=\"text-align: right;\">\n",
       "      <th></th>\n",
       "      <th>Tweet Time</th>\n",
       "      <th>Retweets</th>\n",
       "      <th>Favorites</th>\n",
       "      <th>SA</th>\n",
       "    </tr>\n",
       "  </thead>\n",
       "  <tbody>\n",
       "    <tr>\n",
       "      <th>0</th>\n",
       "      <td>1332</td>\n",
       "      <td>17025.0</td>\n",
       "      <td>98450.0</td>\n",
       "      <td>1</td>\n",
       "    </tr>\n",
       "    <tr>\n",
       "      <th>1</th>\n",
       "      <td>1051</td>\n",
       "      <td>19291.0</td>\n",
       "      <td>79414.0</td>\n",
       "      <td>-1</td>\n",
       "    </tr>\n",
       "    <tr>\n",
       "      <th>2</th>\n",
       "      <td>1550</td>\n",
       "      <td>12501.0</td>\n",
       "      <td>57676.0</td>\n",
       "      <td>0</td>\n",
       "    </tr>\n",
       "    <tr>\n",
       "      <th>3</th>\n",
       "      <td>0946</td>\n",
       "      <td>14234.0</td>\n",
       "      <td>56571.0</td>\n",
       "      <td>1</td>\n",
       "    </tr>\n",
       "    <tr>\n",
       "      <th>4</th>\n",
       "      <td>1030</td>\n",
       "      <td>14015.0</td>\n",
       "      <td>57284.0</td>\n",
       "      <td>0</td>\n",
       "    </tr>\n",
       "  </tbody>\n",
       "</table>\n",
       "</div>"
      ],
      "text/plain": [
       "  Tweet Time  Retweets  Favorites  SA\n",
       "0       1332   17025.0    98450.0   1\n",
       "1       1051   19291.0    79414.0  -1\n",
       "2       1550   12501.0    57676.0   0\n",
       "3       0946   14234.0    56571.0   1\n",
       "4       1030   14015.0    57284.0   0"
      ]
     },
     "execution_count": 13,
     "metadata": {},
     "output_type": "execute_result"
    }
   ],
   "source": [
    "features.head()"
   ]
  },
  {
   "cell_type": "code",
   "execution_count": null,
   "metadata": {},
   "outputs": [],
   "source": []
  },
  {
   "cell_type": "code",
   "execution_count": 14,
   "metadata": {},
   "outputs": [
    {
     "name": "stderr",
     "output_type": "stream",
     "text": [
      "C:\\Users\\Natha\\Anaconda3\\lib\\site-packages\\sklearn\\utils\\deprecation.py:144: FutureWarning: The sklearn.feature_extraction.stop_words module is  deprecated in version 0.22 and will be removed in version 0.24. The corresponding classes / functions should instead be imported from sklearn.feature_extraction.text. Anything that cannot be imported from sklearn.feature_extraction.text is now part of the private API.\n",
      "  warnings.warn(message, FutureWarning)\n"
     ]
    }
   ],
   "source": [
    "from sklearn import preprocessing\n",
    "from sklearn.linear_model import Ridge\n",
    "from sklearn.compose import make_column_transformer\n",
    "from sklearn.feature_extraction.text import CountVectorizer, TfidfVectorizer\n",
    "from sklearn.preprocessing import OneHotEncoder, MinMaxScaler\n",
    "from sklearn.pipeline import make_pipeline\n",
    "from sklearn.pipeline import Pipeline\n",
    "from sklearn.feature_extraction import stop_words"
   ]
  },
  {
   "cell_type": "code",
   "execution_count": 15,
   "metadata": {},
   "outputs": [],
   "source": [
    "# preprocess = make_column_transformer(\n",
    "#     (MinMaxScaler(), [ 'Tweet Time', 'Retweets', 'Favorites', 'SA']))\n",
    "#     (CountVectorizer(analyzer='word', stop_words = 'english', ngram_range=(1,3)), ['Tweet']))\n",
    "preprocess = preprocessing.MinMaxScaler()"
   ]
  },
  {
   "cell_type": "code",
   "execution_count": 22,
   "metadata": {},
   "outputs": [
    {
     "data": {
      "image/png": "[encoded data removed]",
      "text/plain": [
       "<Figure size 432x360 with 2 Axes>"
      ]
     },
     "metadata": {
      "needs_background": "light"
     },
     "output_type": "display_data"
    },
    {
     "data": {
      "text/plain": [
       "<Figure size 1008x576 with 0 Axes>"
      ]
     },
     "metadata": {},
     "output_type": "display_data"
    }
   ],
   "source": [
    "import seaborn as sns\n",
    "%matplotlib inline\n",
    "\n",
    "scaler = preprocessing.StandardScaler()\n",
    "scaled_df = scaler.fit_transform(features)\n",
    "scaled_df = pd.DataFrame(scaled_df, columns=['Tweet Time', 'Retweets', 'Favorites','SA'])\n",
    "\n",
    "fig, (ax1, ax2) = plt.subplots(ncols=2, figsize=(6, 5))\n",
    "\n",
    "ax1.set_title('Before Scaling')\n",
    "sns.kdeplot(features['Tweet Time'], ax=ax1)\n",
    "sns.kdeplot(features['Retweets'], ax=ax1)\n",
    "sns.kdeplot(features['Favorites'], ax=ax1)\n",
    "sns.kdeplot(features['SA'], ax=ax1)\n",
    "ax2.set_title('After Standard Scaler')\n",
    "sns.kdeplot(scaled_df['Tweet Time'], ax=ax2)\n",
    "sns.kdeplot(scaled_df['Retweets'], ax=ax2)\n",
    "sns.kdeplot(scaled_df['Favorites'], ax=ax2)\n",
    "sns.kdeplot(scaled_df['SA'], ax=ax2)\n",
    "plt.show()\n"
   ]
  },
  {
   "cell_type": "code",
   "execution_count": 23,
   "metadata": {},
   "outputs": [],
   "source": [
    "vect = preprocess.fit_transform(scaled_df)"
   ]
  },
  {
   "cell_type": "code",
   "execution_count": 422,
   "metadata": {},
   "outputs": [],
   "source": [
    "corpus = data['Tweet']\n",
    "\n",
    "vectorizer2 = CountVectorizer(analyzer='word', ngram_range=(1, 3), stop_words = 'english')\n",
    "vector = vectorizer2.fit_transform(corpus)\n",
    "vector = vector.toarray()"
   ]
  },
  {
   "cell_type": "code",
   "execution_count": 28,
   "metadata": {},
   "outputs": [],
   "source": [
    "from sklearn.model_selection import train_test_split\n",
    "X_train, X_test, y_train, y_test = train_test_split(vect, target, random_state=0)"
   ]
  },
  {
   "cell_type": "code",
   "execution_count": 29,
   "metadata": {},
   "outputs": [
    {
     "data": {
      "text/plain": [
       "SVC(C=1.0, break_ties=False, cache_size=200, class_weight=None, coef0=0.0,\n",
       "    decision_function_shape='ovr', degree=3, gamma='scale', kernel='linear',\n",
       "    max_iter=-1, probability=False, random_state=None, shrinking=True,\n",
       "    tol=0.001, verbose=False)"
      ]
     },
     "execution_count": 29,
     "metadata": {},
     "output_type": "execute_result"
    }
   ],
   "source": [
    "# model = make_pipeline(\n",
    "#     preprocess,\n",
    "#     Ridge(solver = \"lsqr\", fit_intercept=False))\n",
    "    \n",
    "# model.fit(X_train, y_train)\n",
    "\n",
    "# from sklearn.svm import SVC \n",
    "# model = SVC(kernel='linear')\n",
    "model.fit(X_train, y_train)"
   ]
  },
  {
   "cell_type": "code",
   "execution_count": null,
   "metadata": {},
   "outputs": [],
   "source": []
  },
  {
   "cell_type": "code",
   "execution_count": 27,
   "metadata": {},
   "outputs": [
    {
     "name": "stdout",
     "output_type": "stream",
     "text": [
      "(1731, 4)\n",
      "(578, 4)\n"
     ]
    }
   ],
   "source": [
    "# from sklearn.model_selection import train_test_split\n",
    "# X_train, X_test, y_train, y_test = train_test_split(vector, target, random_state=42575636)\n",
    "\n",
    "print(X_train.shape)\n",
    "print(X_test.shape)"
   ]
  },
  {
   "cell_type": "code",
   "execution_count": null,
   "metadata": {},
   "outputs": [],
   "source": []
  },
  {
   "cell_type": "code",
   "execution_count": 30,
   "metadata": {},
   "outputs": [
    {
     "name": "stdout",
     "output_type": "stream",
     "text": [
      "Test Acc: 0.3737\n",
      "              precision    recall  f1-score   support\n",
      "\n",
      "    Positive       0.34      0.27      0.30       183\n",
      "   No Effect       0.00      0.00      0.00       176\n",
      "    Negative       0.38      0.76      0.51       219\n",
      "\n",
      "    accuracy                           0.37       578\n",
      "   macro avg       0.24      0.34      0.27       578\n",
      "weighted avg       0.25      0.37      0.29       578\n",
      "\n"
     ]
    },
    {
     "name": "stderr",
     "output_type": "stream",
     "text": [
      "C:\\Users\\Natha\\Anaconda3\\lib\\site-packages\\sklearn\\metrics\\_classification.py:1272: UndefinedMetricWarning: Precision and F-score are ill-defined and being set to 0.0 in labels with no predicted samples. Use `zero_division` parameter to control this behavior.\n",
      "  _warn_prf(average, modifier, msg_start, len(result))\n"
     ]
    }
   ],
   "source": [
    "print('Test Acc: %.4f' % model.score(X_test, y_test))\n",
    "\n",
    "# Calculate classification report\n",
    "from sklearn.metrics import classification_report\n",
    "predictions = model.predict(X_test)\n",
    "print(classification_report(y_test, predictions,\n",
    "                            target_names=target_names))"
   ]
  },
  {
   "cell_type": "markdown",
   "metadata": {},
   "source": [
    "## Hashing Vectorizer"
   ]
  },
  {
   "cell_type": "code",
   "execution_count": 44,
   "metadata": {},
   "outputs": [
    {
     "name": "stdout",
     "output_type": "stream",
     "text": [
      "(2955, 2000)\n",
      "[[ 0.          0.          0.         ...  0.          0.\n",
      "   0.        ]\n",
      " [ 0.          0.          0.         ...  0.          0.\n",
      "   0.        ]\n",
      " [ 0.          0.          0.         ...  0.          0.\n",
      "   0.        ]\n",
      " ...\n",
      " [ 0.          0.          0.         ...  0.08006408  0.\n",
      "   0.        ]\n",
      " [ 0.          0.          0.         ...  0.          0.\n",
      "   0.        ]\n",
      " [-0.10540926  0.          0.         ...  0.          0.\n",
      "   0.        ]]\n"
     ]
    }
   ],
   "source": [
    "from sklearn.feature_extraction.text import HashingVectorizer\n",
    "\n",
    "# list of text documents\n",
    "text = data[\"Tweet\"]\n",
    "# create the transform\n",
    "vectorizer = HashingVectorizer(n_features=2000, ngram_range=(1, 3))\n",
    "# encode document\n",
    "vector = vectorizer.transform(text)\n",
    "# summarize encoded vector\n",
    "print(vector.shape)\n",
    "print(vector.toarray())"
   ]
  },
  {
   "cell_type": "code",
   "execution_count": 45,
   "metadata": {},
   "outputs": [
    {
     "data": {
      "text/plain": [
       "<2955x2000 sparse matrix of type '<class 'numpy.float64'>'\n",
       "\twith 226631 stored elements in Compressed Sparse Row format>"
      ]
     },
     "execution_count": 45,
     "metadata": {},
     "output_type": "execute_result"
    }
   ],
   "source": [
    "vector"
   ]
  },
  {
   "cell_type": "code",
   "execution_count": 46,
   "metadata": {},
   "outputs": [],
   "source": [
    "from sklearn.model_selection import train_test_split\n",
    "X_train, X_test, y_train, y_test = train_test_split(vector.toarray(), target, random_state=42)"
   ]
  },
  {
   "cell_type": "code",
   "execution_count": 47,
   "metadata": {},
   "outputs": [
    {
     "data": {
      "text/plain": [
       "SVC(C=1.0, break_ties=False, cache_size=200, class_weight=None, coef0=0.0,\n",
       "    decision_function_shape='ovr', degree=3, gamma='scale', kernel='linear',\n",
       "    max_iter=-1, probability=False, random_state=None, shrinking=True,\n",
       "    tol=0.001, verbose=False)"
      ]
     },
     "execution_count": 47,
     "metadata": {},
     "output_type": "execute_result"
    }
   ],
   "source": [
    "from sklearn.svm import SVC \n",
    "model = SVC(kernel='linear')\n",
    "model.fit(X_train, y_train)"
   ]
  },
  {
   "cell_type": "code",
   "execution_count": 48,
   "metadata": {},
   "outputs": [
    {
     "name": "stdout",
     "output_type": "stream",
     "text": [
      "Test Acc: 0.4073\n"
     ]
    }
   ],
   "source": [
    "print('Test Acc: %.4f' % model.score(X_test, y_test))"
   ]
  },
  {
   "cell_type": "code",
   "execution_count": 49,
   "metadata": {},
   "outputs": [
    {
     "name": "stdout",
     "output_type": "stream",
     "text": [
      "              precision    recall  f1-score   support\n",
      "\n",
      "    Positive       0.41      0.48      0.44       310\n",
      "   No Effect       0.00      0.00      0.00       102\n",
      "    Negative       0.41      0.47      0.44       327\n",
      "\n",
      "    accuracy                           0.41       739\n",
      "   macro avg       0.27      0.32      0.29       739\n",
      "weighted avg       0.35      0.41      0.38       739\n",
      "\n"
     ]
    },
    {
     "name": "stderr",
     "output_type": "stream",
     "text": [
      "C:\\Users\\Natha\\Anaconda3\\lib\\site-packages\\sklearn\\metrics\\_classification.py:1272: UndefinedMetricWarning: Precision and F-score are ill-defined and being set to 0.0 in labels with no predicted samples. Use `zero_division` parameter to control this behavior.\n",
      "  _warn_prf(average, modifier, msg_start, len(result))\n"
     ]
    }
   ],
   "source": [
    "# Calculate classification report\n",
    "from sklearn.metrics import classification_report\n",
    "predictions = model.predict(X_test)\n",
    "print(classification_report(y_test, predictions,\n",
    "                            target_names=target_names))"
   ]
  },
  {
   "cell_type": "code",
   "execution_count": 47,
   "metadata": {},
   "outputs": [],
   "source": [
    "target = data[\"RTs\"]\n",
    "target_names = [\"Positive\", \"No Effect\", \"Negative\"]"
   ]
  },
  {
   "cell_type": "code",
   "execution_count": 48,
   "metadata": {},
   "outputs": [],
   "source": [
    "from sklearn.model_selection import train_test_split\n",
    "X_train, X_test, y_train, y_test = train_test_split(vector.toarray(), target, random_state=42)"
   ]
  },
  {
   "cell_type": "code",
   "execution_count": 49,
   "metadata": {},
   "outputs": [
    {
     "data": {
      "text/plain": [
       "SVC(C=1.0, break_ties=False, cache_size=200, class_weight=None, coef0=0.0,\n",
       "    decision_function_shape='ovr', degree=3, gamma='scale', kernel='linear',\n",
       "    max_iter=-1, probability=False, random_state=None, shrinking=True,\n",
       "    tol=0.001, verbose=False)"
      ]
     },
     "execution_count": 49,
     "metadata": {},
     "output_type": "execute_result"
    }
   ],
   "source": [
    "model = SVC(kernel='linear')\n",
    "model.fit(X_train, y_train)"
   ]
  },
  {
   "cell_type": "code",
   "execution_count": 50,
   "metadata": {},
   "outputs": [
    {
     "name": "stdout",
     "output_type": "stream",
     "text": [
      "Test Acc: 0.0200\n"
     ]
    }
   ],
   "source": [
    "print('Test Acc: %.4f' % model.score(X_test, y_test))"
   ]
  },
  {
   "cell_type": "code",
   "execution_count": null,
   "metadata": {},
   "outputs": [],
   "source": []
  }
 ],
 "metadata": {
  "kernelspec": {
   "display_name": "Python 3",
   "language": "python",
   "name": "python3"
  },
  "language_info": {
   "codemirror_mode": {
    "name": "ipython",
    "version": 3
   },
   "file_extension": ".py",
   "mimetype": "text/x-python",
   "name": "python",
   "nbconvert_exporter": "python",
   "pygments_lexer": "ipython3",
   "version": "3.7.4"
  }
 },
 "nbformat": 4,
 "nbformat_minor": 2
}
