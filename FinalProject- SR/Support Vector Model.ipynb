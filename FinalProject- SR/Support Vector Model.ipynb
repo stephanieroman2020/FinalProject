{
 "cells": [
  {
   "cell_type": "code",
   "execution_count": 1,
   "metadata": {},
   "outputs": [],
   "source": [
    "import matplotlib.pyplot as plt\n",
    "from sklearn.neighbors import KNeighborsClassifier\n",
    "import pandas as pd\n",
    "import numpy as np\n",
    "import os"
   ]
  },
  {
   "cell_type": "code",
   "execution_count": 117,
   "metadata": {},
   "outputs": [
    {
     "data": {
      "text/html": [
       "<div>\n",
       "<style scoped>\n",
       "    .dataframe tbody tr th:only-of-type {\n",
       "        vertical-align: middle;\n",
       "    }\n",
       "\n",
       "    .dataframe tbody tr th {\n",
       "        vertical-align: top;\n",
       "    }\n",
       "\n",
       "    .dataframe thead th {\n",
       "        text-align: right;\n",
       "    }\n",
       "</style>\n",
       "<table border=\"1\" class=\"dataframe\">\n",
       "  <thead>\n",
       "    <tr style=\"text-align: right;\">\n",
       "      <th></th>\n",
       "      <th>Unnamed: 0</th>\n",
       "      <th>Pre_Tweet_Vol</th>\n",
       "      <th>Post_Tweet_Vol</th>\n",
       "      <th>Vol Change</th>\n",
       "      <th>Tweet</th>\n",
       "      <th>Tweet Time</th>\n",
       "    </tr>\n",
       "  </thead>\n",
       "  <tbody>\n",
       "    <tr>\n",
       "      <th>0</th>\n",
       "      <td>551</td>\n",
       "      <td>-0.010892</td>\n",
       "      <td>0.001412</td>\n",
       "      <td>0.012304</td>\n",
       "      <td>Just had a  very good tele-conference with Nat...</td>\n",
       "      <td>20200316 1332</td>\n",
       "    </tr>\n",
       "    <tr>\n",
       "      <th>1</th>\n",
       "      <td>915</td>\n",
       "      <td>-0.008380</td>\n",
       "      <td>0.003885</td>\n",
       "      <td>0.012264</td>\n",
       "      <td>The Federal Reserve is cutting but must furthe...</td>\n",
       "      <td>20200303 1051</td>\n",
       "    </tr>\n",
       "    <tr>\n",
       "      <th>2</th>\n",
       "      <td>465</td>\n",
       "      <td>0.008989</td>\n",
       "      <td>0.018959</td>\n",
       "      <td>0.009970</td>\n",
       "      <td>Thank you @HerschelWalker! https://t.co/qBXOa4...</td>\n",
       "      <td>20200318 1550</td>\n",
       "    </tr>\n",
       "    <tr>\n",
       "      <th>3</th>\n",
       "      <td>7269</td>\n",
       "      <td>-0.007727</td>\n",
       "      <td>0.001513</td>\n",
       "      <td>0.009240</td>\n",
       "      <td>Today we honor all of our Country’s Purple Hea...</td>\n",
       "      <td>20190807 0946</td>\n",
       "    </tr>\n",
       "    <tr>\n",
       "      <th>4</th>\n",
       "      <td>1031</td>\n",
       "      <td>-0.005200</td>\n",
       "      <td>0.003462</td>\n",
       "      <td>0.008661</td>\n",
       "      <td>“You go around Pennsylvania and you see Trump ...</td>\n",
       "      <td>20200228 1030</td>\n",
       "    </tr>\n",
       "  </tbody>\n",
       "</table>\n",
       "</div>"
      ],
      "text/plain": [
       "   Unnamed: 0  Pre_Tweet_Vol  Post_Tweet_Vol  Vol Change  \\\n",
       "0         551      -0.010892        0.001412    0.012304   \n",
       "1         915      -0.008380        0.003885    0.012264   \n",
       "2         465       0.008989        0.018959    0.009970   \n",
       "3        7269      -0.007727        0.001513    0.009240   \n",
       "4        1031      -0.005200        0.003462    0.008661   \n",
       "\n",
       "                                               Tweet     Tweet Time  \n",
       "0  Just had a  very good tele-conference with Nat...  20200316 1332  \n",
       "1  The Federal Reserve is cutting but must furthe...  20200303 1051  \n",
       "2  Thank you @HerschelWalker! https://t.co/qBXOa4...  20200318 1550  \n",
       "3  Today we honor all of our Country’s Purple Hea...  20190807 0946  \n",
       "4  “You go around Pennsylvania and you see Trump ...  20200228 1030  "
      ]
     },
     "execution_count": 117,
     "metadata": {},
     "output_type": "execute_result"
    }
   ],
   "source": [
    "#Load CSV\n",
    "# df = pd.read_csv(\"../mergedata_%change.csv\")\n",
    "df = pd.read_csv(\"../PRE_POST_VOL\")\n",
    "df.head()"
   ]
  },
  {
   "cell_type": "code",
   "execution_count": 126,
   "metadata": {},
   "outputs": [
    {
     "data": {
      "text/html": [
       "<div>\n",
       "<style scoped>\n",
       "    .dataframe tbody tr th:only-of-type {\n",
       "        vertical-align: middle;\n",
       "    }\n",
       "\n",
       "    .dataframe tbody tr th {\n",
       "        vertical-align: top;\n",
       "    }\n",
       "\n",
       "    .dataframe thead th {\n",
       "        text-align: right;\n",
       "    }\n",
       "</style>\n",
       "<table border=\"1\" class=\"dataframe\">\n",
       "  <thead>\n",
       "    <tr style=\"text-align: right;\">\n",
       "      <th></th>\n",
       "      <th>Unnamed: 0</th>\n",
       "      <th>Pre_Tweet_Vol</th>\n",
       "      <th>Post_Tweet_Vol</th>\n",
       "      <th>Vol Change</th>\n",
       "      <th>Tweet</th>\n",
       "      <th>Tweet Time</th>\n",
       "      <th>Market Movement</th>\n",
       "    </tr>\n",
       "  </thead>\n",
       "  <tbody>\n",
       "    <tr>\n",
       "      <th>0</th>\n",
       "      <td>551</td>\n",
       "      <td>-0.010892</td>\n",
       "      <td>0.001412</td>\n",
       "      <td>0.012304</td>\n",
       "      <td>Just had a  very good tele-conference with Nat...</td>\n",
       "      <td>20200316 1332</td>\n",
       "      <td>1</td>\n",
       "    </tr>\n",
       "    <tr>\n",
       "      <th>1</th>\n",
       "      <td>915</td>\n",
       "      <td>-0.008380</td>\n",
       "      <td>0.003885</td>\n",
       "      <td>0.012264</td>\n",
       "      <td>The Federal Reserve is cutting but must furthe...</td>\n",
       "      <td>20200303 1051</td>\n",
       "      <td>1</td>\n",
       "    </tr>\n",
       "    <tr>\n",
       "      <th>2</th>\n",
       "      <td>465</td>\n",
       "      <td>0.008989</td>\n",
       "      <td>0.018959</td>\n",
       "      <td>0.009970</td>\n",
       "      <td>Thank you @HerschelWalker! https://t.co/qBXOa4...</td>\n",
       "      <td>20200318 1550</td>\n",
       "      <td>1</td>\n",
       "    </tr>\n",
       "    <tr>\n",
       "      <th>3</th>\n",
       "      <td>7269</td>\n",
       "      <td>-0.007727</td>\n",
       "      <td>0.001513</td>\n",
       "      <td>0.009240</td>\n",
       "      <td>Today we honor all of our Country’s Purple Hea...</td>\n",
       "      <td>20190807 0946</td>\n",
       "      <td>1</td>\n",
       "    </tr>\n",
       "    <tr>\n",
       "      <th>4</th>\n",
       "      <td>1031</td>\n",
       "      <td>-0.005200</td>\n",
       "      <td>0.003462</td>\n",
       "      <td>0.008661</td>\n",
       "      <td>“You go around Pennsylvania and you see Trump ...</td>\n",
       "      <td>20200228 1030</td>\n",
       "      <td>1</td>\n",
       "    </tr>\n",
       "    <tr>\n",
       "      <th>...</th>\n",
       "      <td>...</td>\n",
       "      <td>...</td>\n",
       "      <td>...</td>\n",
       "      <td>...</td>\n",
       "      <td>...</td>\n",
       "      <td>...</td>\n",
       "      <td>...</td>\n",
       "    </tr>\n",
       "    <tr>\n",
       "      <th>2304</th>\n",
       "      <td>717</td>\n",
       "      <td>0.008702</td>\n",
       "      <td>-0.000290</td>\n",
       "      <td>-0.008992</td>\n",
       "      <td>Thank you @SenateGOP! https://t.co/XysOvXbTMF</td>\n",
       "      <td>20200310 1144</td>\n",
       "      <td>-1</td>\n",
       "    </tr>\n",
       "    <tr>\n",
       "      <th>2305</th>\n",
       "      <td>839</td>\n",
       "      <td>0.006164</td>\n",
       "      <td>-0.003560</td>\n",
       "      <td>-0.009724</td>\n",
       "      <td>Gallup just gave us the highest rating ever fo...</td>\n",
       "      <td>20200305 1534</td>\n",
       "      <td>-1</td>\n",
       "    </tr>\n",
       "    <tr>\n",
       "      <th>2306</th>\n",
       "      <td>10724</td>\n",
       "      <td>0.007377</td>\n",
       "      <td>-0.002386</td>\n",
       "      <td>-0.009762</td>\n",
       "      <td>The reason the DACA for Wall deal didn’t get d...</td>\n",
       "      <td>20181227 1444</td>\n",
       "      <td>-1</td>\n",
       "    </tr>\n",
       "    <tr>\n",
       "      <th>2307</th>\n",
       "      <td>649</td>\n",
       "      <td>0.027447</td>\n",
       "      <td>0.003998</td>\n",
       "      <td>-0.023449</td>\n",
       "      <td>KEEPING THE HOME SAFE ENCOURAGE YOUR FAMILY ME...</td>\n",
       "      <td>20200312 1301</td>\n",
       "      <td>-1</td>\n",
       "    </tr>\n",
       "    <tr>\n",
       "      <th>2308</th>\n",
       "      <td>648</td>\n",
       "      <td>0.027447</td>\n",
       "      <td>0.003998</td>\n",
       "      <td>-0.023449</td>\n",
       "      <td>KEEPING THE SCHOOL SAFE ENCOURAGE YOUR FACULTY...</td>\n",
       "      <td>20200312 1301</td>\n",
       "      <td>-1</td>\n",
       "    </tr>\n",
       "  </tbody>\n",
       "</table>\n",
       "<p>2309 rows × 7 columns</p>\n",
       "</div>"
      ],
      "text/plain": [
       "      Unnamed: 0  Pre_Tweet_Vol  Post_Tweet_Vol  Vol Change  \\\n",
       "0            551      -0.010892        0.001412    0.012304   \n",
       "1            915      -0.008380        0.003885    0.012264   \n",
       "2            465       0.008989        0.018959    0.009970   \n",
       "3           7269      -0.007727        0.001513    0.009240   \n",
       "4           1031      -0.005200        0.003462    0.008661   \n",
       "...          ...            ...             ...         ...   \n",
       "2304         717       0.008702       -0.000290   -0.008992   \n",
       "2305         839       0.006164       -0.003560   -0.009724   \n",
       "2306       10724       0.007377       -0.002386   -0.009762   \n",
       "2307         649       0.027447        0.003998   -0.023449   \n",
       "2308         648       0.027447        0.003998   -0.023449   \n",
       "\n",
       "                                                  Tweet     Tweet Time  \\\n",
       "0     Just had a  very good tele-conference with Nat...  20200316 1332   \n",
       "1     The Federal Reserve is cutting but must furthe...  20200303 1051   \n",
       "2     Thank you @HerschelWalker! https://t.co/qBXOa4...  20200318 1550   \n",
       "3     Today we honor all of our Country’s Purple Hea...  20190807 0946   \n",
       "4     “You go around Pennsylvania and you see Trump ...  20200228 1030   \n",
       "...                                                 ...            ...   \n",
       "2304      Thank you @SenateGOP! https://t.co/XysOvXbTMF  20200310 1144   \n",
       "2305  Gallup just gave us the highest rating ever fo...  20200305 1534   \n",
       "2306  The reason the DACA for Wall deal didn’t get d...  20181227 1444   \n",
       "2307  KEEPING THE HOME SAFE ENCOURAGE YOUR FAMILY ME...  20200312 1301   \n",
       "2308  KEEPING THE SCHOOL SAFE ENCOURAGE YOUR FACULTY...  20200312 1301   \n",
       "\n",
       "      Market Movement  \n",
       "0                   1  \n",
       "1                   1  \n",
       "2                   1  \n",
       "3                   1  \n",
       "4                   1  \n",
       "...               ...  \n",
       "2304               -1  \n",
       "2305               -1  \n",
       "2306               -1  \n",
       "2307               -1  \n",
       "2308               -1  \n",
       "\n",
       "[2309 rows x 7 columns]"
      ]
     },
     "execution_count": 126,
     "metadata": {},
     "output_type": "execute_result"
    }
   ],
   "source": [
    "#Bin SPX % Change into +1,0,-1 and establish threshold\n",
    "market_movements = []\n",
    "pos_threshold = 0.0003\n",
    "neg_threshold = pos_threshold * -1\n",
    "\n",
    "for index, row in df.iterrows():\n",
    "    if row['Vol Change'] >= pos_threshold:\n",
    "        market_movement = 1\n",
    "        market_movements.append(market_movement)\n",
    "    elif row['Vol Change'] <= neg_threshold:\n",
    "        market_movement = -1\n",
    "        market_movements.append(market_movement)\n",
    "    else:\n",
    "        market_movement = 0\n",
    "        market_movements.append(market_movement)\n",
    "\n",
    "#Add new list as column to df\n",
    "df['Market Movement'] = market_movements\n",
    "df"
   ]
  },
  {
   "cell_type": "code",
   "execution_count": 127,
   "metadata": {},
   "outputs": [],
   "source": [
    "#State target output, name the %change bins\n",
    "target = df[\"Market Movement\"]\n",
    "target_names = [\"Positive\", \"No Effect\", \"Negative\"]"
   ]
  },
  {
   "cell_type": "code",
   "execution_count": 128,
   "metadata": {},
   "outputs": [
    {
     "data": {
      "text/html": [
       "<div>\n",
       "<style scoped>\n",
       "    .dataframe tbody tr th:only-of-type {\n",
       "        vertical-align: middle;\n",
       "    }\n",
       "\n",
       "    .dataframe tbody tr th {\n",
       "        vertical-align: top;\n",
       "    }\n",
       "\n",
       "    .dataframe thead th {\n",
       "        text-align: right;\n",
       "    }\n",
       "</style>\n",
       "<table border=\"1\" class=\"dataframe\">\n",
       "  <thead>\n",
       "    <tr style=\"text-align: right;\">\n",
       "      <th></th>\n",
       "      <th>Unnamed: 0</th>\n",
       "      <th>Pre_Tweet_Vol</th>\n",
       "      <th>Post_Tweet_Vol</th>\n",
       "      <th>Vol Change</th>\n",
       "      <th>Tweet</th>\n",
       "      <th>Tweet Time</th>\n",
       "    </tr>\n",
       "  </thead>\n",
       "  <tbody>\n",
       "    <tr>\n",
       "      <th>0</th>\n",
       "      <td>551</td>\n",
       "      <td>-0.010892</td>\n",
       "      <td>0.001412</td>\n",
       "      <td>0.012304</td>\n",
       "      <td>Just had a  very good tele-conference with Nat...</td>\n",
       "      <td>20200316 1332</td>\n",
       "    </tr>\n",
       "    <tr>\n",
       "      <th>1</th>\n",
       "      <td>915</td>\n",
       "      <td>-0.008380</td>\n",
       "      <td>0.003885</td>\n",
       "      <td>0.012264</td>\n",
       "      <td>The Federal Reserve is cutting but must furthe...</td>\n",
       "      <td>20200303 1051</td>\n",
       "    </tr>\n",
       "    <tr>\n",
       "      <th>2</th>\n",
       "      <td>465</td>\n",
       "      <td>0.008989</td>\n",
       "      <td>0.018959</td>\n",
       "      <td>0.009970</td>\n",
       "      <td>Thank you @HerschelWalker! https://t.co/qBXOa4...</td>\n",
       "      <td>20200318 1550</td>\n",
       "    </tr>\n",
       "    <tr>\n",
       "      <th>3</th>\n",
       "      <td>7269</td>\n",
       "      <td>-0.007727</td>\n",
       "      <td>0.001513</td>\n",
       "      <td>0.009240</td>\n",
       "      <td>Today we honor all of our Country’s Purple Hea...</td>\n",
       "      <td>20190807 0946</td>\n",
       "    </tr>\n",
       "    <tr>\n",
       "      <th>4</th>\n",
       "      <td>1031</td>\n",
       "      <td>-0.005200</td>\n",
       "      <td>0.003462</td>\n",
       "      <td>0.008661</td>\n",
       "      <td>“You go around Pennsylvania and you see Trump ...</td>\n",
       "      <td>20200228 1030</td>\n",
       "    </tr>\n",
       "  </tbody>\n",
       "</table>\n",
       "</div>"
      ],
      "text/plain": [
       "   Unnamed: 0  Pre_Tweet_Vol  Post_Tweet_Vol  Vol Change  \\\n",
       "0         551      -0.010892        0.001412    0.012304   \n",
       "1         915      -0.008380        0.003885    0.012264   \n",
       "2         465       0.008989        0.018959    0.009970   \n",
       "3        7269      -0.007727        0.001513    0.009240   \n",
       "4        1031      -0.005200        0.003462    0.008661   \n",
       "\n",
       "                                               Tweet     Tweet Time  \n",
       "0  Just had a  very good tele-conference with Nat...  20200316 1332  \n",
       "1  The Federal Reserve is cutting but must furthe...  20200303 1051  \n",
       "2  Thank you @HerschelWalker! https://t.co/qBXOa4...  20200318 1550  \n",
       "3  Today we honor all of our Country’s Purple Hea...  20190807 0946  \n",
       "4  “You go around Pennsylvania and you see Trump ...  20200228 1030  "
      ]
     },
     "execution_count": 128,
     "metadata": {},
     "output_type": "execute_result"
    }
   ],
   "source": [
    "#Remove Output column to avoid data leakage\n",
    "data = df.drop(\"Market Movement\", axis=1)\n",
    "feature_names = data.columns\n",
    "data.head()"
   ]
  },
  {
   "cell_type": "code",
   "execution_count": 129,
   "metadata": {},
   "outputs": [
    {
     "data": {
      "text/plain": [
       "(2309, 6)"
      ]
     },
     "execution_count": 129,
     "metadata": {},
     "output_type": "execute_result"
    }
   ],
   "source": [
    "# tokenize, then remove stopwords, ngrams, sentiment analysis feature selection\n",
    "#either truncate or append to vector\n",
    "data.shape"
   ]
  },
  {
   "cell_type": "markdown",
   "metadata": {},
   "source": [
    "## Count Vectorizer"
   ]
  },
  {
   "cell_type": "code",
   "execution_count": 134,
   "metadata": {},
   "outputs": [
    {
     "data": {
      "text/plain": [
       "<2309x59192 sparse matrix of type '<class 'numpy.int64'>'\n",
       "\twith 91492 stored elements in Compressed Sparse Row format>"
      ]
     },
     "execution_count": 134,
     "metadata": {},
     "output_type": "execute_result"
    }
   ],
   "source": [
    "from sklearn.feature_extraction import stop_words\n",
    "from sklearn.feature_extraction.text import CountVectorizer\n",
    "\n",
    "corpus = data['Tweet']\n",
    "\n",
    "vectorizer2 = CountVectorizer(analyzer='word', ngram_range=(1, 3), stop_words = 'english')\n",
    "vector = vectorizer2.fit_transform(corpus)\n",
    "vector"
   ]
  },
  {
   "cell_type": "code",
   "execution_count": 135,
   "metadata": {},
   "outputs": [
    {
     "name": "stdout",
     "output_type": "stream",
     "text": [
      "(1731, 59192)\n",
      "(578, 59192)\n"
     ]
    }
   ],
   "source": [
    "from sklearn.model_selection import train_test_split\n",
    "X_train, X_test, y_train, y_test = train_test_split(vector.toarray(), target, random_state=42575636)\n",
    "\n",
    "print(X_train.shape)\n",
    "print(X_test.shape)"
   ]
  },
  {
   "cell_type": "code",
   "execution_count": 136,
   "metadata": {},
   "outputs": [
    {
     "data": {
      "text/plain": [
       "SVC(C=1.0, break_ties=False, cache_size=200, class_weight=None, coef0=0.0,\n",
       "    decision_function_shape='ovr', degree=3, gamma='scale', kernel='linear',\n",
       "    max_iter=-1, probability=False, random_state=None, shrinking=True,\n",
       "    tol=0.001, verbose=False)"
      ]
     },
     "execution_count": 136,
     "metadata": {},
     "output_type": "execute_result"
    }
   ],
   "source": [
    "from sklearn.svm import SVC \n",
    "model = SVC(kernel='linear')\n",
    "model.fit(X_train, y_train)"
   ]
  },
  {
   "cell_type": "code",
   "execution_count": 137,
   "metadata": {},
   "outputs": [
    {
     "name": "stdout",
     "output_type": "stream",
     "text": [
      "Test Acc: 0.3702\n",
      "              precision    recall  f1-score   support\n",
      "\n",
      "    Positive       0.33      0.45      0.38       187\n",
      "   No Effect       0.40      0.24      0.30       178\n",
      "    Negative       0.40      0.41      0.40       213\n",
      "\n",
      "    accuracy                           0.37       578\n",
      "   macro avg       0.38      0.37      0.36       578\n",
      "weighted avg       0.38      0.37      0.36       578\n",
      "\n"
     ]
    }
   ],
   "source": [
    "print('Test Acc: %.4f' % model.score(X_test, y_test))\n",
    "\n",
    "# Calculate classification report\n",
    "from sklearn.metrics import classification_report\n",
    "predictions = model.predict(X_test)\n",
    "print(classification_report(y_test, predictions,\n",
    "                            target_names=target_names))"
   ]
  },
  {
   "cell_type": "markdown",
   "metadata": {},
   "source": [
    "## Hashing Vectorizer"
   ]
  },
  {
   "cell_type": "code",
   "execution_count": 44,
   "metadata": {},
   "outputs": [
    {
     "name": "stdout",
     "output_type": "stream",
     "text": [
      "(2955, 2000)\n",
      "[[ 0.          0.          0.         ...  0.          0.\n",
      "   0.        ]\n",
      " [ 0.          0.          0.         ...  0.          0.\n",
      "   0.        ]\n",
      " [ 0.          0.          0.         ...  0.          0.\n",
      "   0.        ]\n",
      " ...\n",
      " [ 0.          0.          0.         ...  0.08006408  0.\n",
      "   0.        ]\n",
      " [ 0.          0.          0.         ...  0.          0.\n",
      "   0.        ]\n",
      " [-0.10540926  0.          0.         ...  0.          0.\n",
      "   0.        ]]\n"
     ]
    }
   ],
   "source": [
    "from sklearn.feature_extraction.text import HashingVectorizer\n",
    "\n",
    "# list of text documents\n",
    "text = data[\"Tweet\"]\n",
    "# create the transform\n",
    "vectorizer = HashingVectorizer(n_features=2000, ngram_range=(1, 3))\n",
    "# encode document\n",
    "vector = vectorizer.transform(text)\n",
    "# summarize encoded vector\n",
    "print(vector.shape)\n",
    "print(vector.toarray())"
   ]
  },
  {
   "cell_type": "code",
   "execution_count": 45,
   "metadata": {},
   "outputs": [
    {
     "data": {
      "text/plain": [
       "<2955x2000 sparse matrix of type '<class 'numpy.float64'>'\n",
       "\twith 226631 stored elements in Compressed Sparse Row format>"
      ]
     },
     "execution_count": 45,
     "metadata": {},
     "output_type": "execute_result"
    }
   ],
   "source": [
    "vector"
   ]
  },
  {
   "cell_type": "code",
   "execution_count": 46,
   "metadata": {},
   "outputs": [],
   "source": [
    "from sklearn.model_selection import train_test_split\n",
    "X_train, X_test, y_train, y_test = train_test_split(vector.toarray(), target, random_state=42)"
   ]
  },
  {
   "cell_type": "code",
   "execution_count": 47,
   "metadata": {},
   "outputs": [
    {
     "data": {
      "text/plain": [
       "SVC(C=1.0, break_ties=False, cache_size=200, class_weight=None, coef0=0.0,\n",
       "    decision_function_shape='ovr', degree=3, gamma='scale', kernel='linear',\n",
       "    max_iter=-1, probability=False, random_state=None, shrinking=True,\n",
       "    tol=0.001, verbose=False)"
      ]
     },
     "execution_count": 47,
     "metadata": {},
     "output_type": "execute_result"
    }
   ],
   "source": [
    "from sklearn.svm import SVC \n",
    "model = SVC(kernel='linear')\n",
    "model.fit(X_train, y_train)"
   ]
  },
  {
   "cell_type": "code",
   "execution_count": 48,
   "metadata": {},
   "outputs": [
    {
     "name": "stdout",
     "output_type": "stream",
     "text": [
      "Test Acc: 0.4073\n"
     ]
    }
   ],
   "source": [
    "print('Test Acc: %.4f' % model.score(X_test, y_test))"
   ]
  },
  {
   "cell_type": "code",
   "execution_count": 49,
   "metadata": {},
   "outputs": [
    {
     "name": "stdout",
     "output_type": "stream",
     "text": [
      "              precision    recall  f1-score   support\n",
      "\n",
      "    Positive       0.41      0.48      0.44       310\n",
      "   No Effect       0.00      0.00      0.00       102\n",
      "    Negative       0.41      0.47      0.44       327\n",
      "\n",
      "    accuracy                           0.41       739\n",
      "   macro avg       0.27      0.32      0.29       739\n",
      "weighted avg       0.35      0.41      0.38       739\n",
      "\n"
     ]
    },
    {
     "name": "stderr",
     "output_type": "stream",
     "text": [
      "C:\\Users\\Natha\\Anaconda3\\lib\\site-packages\\sklearn\\metrics\\_classification.py:1272: UndefinedMetricWarning: Precision and F-score are ill-defined and being set to 0.0 in labels with no predicted samples. Use `zero_division` parameter to control this behavior.\n",
      "  _warn_prf(average, modifier, msg_start, len(result))\n"
     ]
    }
   ],
   "source": [
    "# Calculate classification report\n",
    "from sklearn.metrics import classification_report\n",
    "predictions = model.predict(X_test)\n",
    "print(classification_report(y_test, predictions,\n",
    "                            target_names=target_names))"
   ]
  },
  {
   "cell_type": "code",
   "execution_count": 47,
   "metadata": {},
   "outputs": [],
   "source": [
    "target = data[\"RTs\"]\n",
    "target_names = [\"Positive\", \"No Effect\", \"Negative\"]"
   ]
  },
  {
   "cell_type": "code",
   "execution_count": 48,
   "metadata": {},
   "outputs": [],
   "source": [
    "from sklearn.model_selection import train_test_split\n",
    "X_train, X_test, y_train, y_test = train_test_split(vector.toarray(), target, random_state=42)"
   ]
  },
  {
   "cell_type": "code",
   "execution_count": 49,
   "metadata": {},
   "outputs": [
    {
     "data": {
      "text/plain": [
       "SVC(C=1.0, break_ties=False, cache_size=200, class_weight=None, coef0=0.0,\n",
       "    decision_function_shape='ovr', degree=3, gamma='scale', kernel='linear',\n",
       "    max_iter=-1, probability=False, random_state=None, shrinking=True,\n",
       "    tol=0.001, verbose=False)"
      ]
     },
     "execution_count": 49,
     "metadata": {},
     "output_type": "execute_result"
    }
   ],
   "source": [
    "model = SVC(kernel='linear')\n",
    "model.fit(X_train, y_train)"
   ]
  },
  {
   "cell_type": "code",
   "execution_count": 50,
   "metadata": {},
   "outputs": [
    {
     "name": "stdout",
     "output_type": "stream",
     "text": [
      "Test Acc: 0.0200\n"
     ]
    }
   ],
   "source": [
    "print('Test Acc: %.4f' % model.score(X_test, y_test))"
   ]
  },
  {
   "cell_type": "code",
   "execution_count": null,
   "metadata": {},
   "outputs": [],
   "source": []
  }
 ],
 "metadata": {
  "kernelspec": {
   "display_name": "Python 3",
   "language": "python",
   "name": "python3"
  },
  "language_info": {
   "codemirror_mode": {
    "name": "ipython",
    "version": 3
   },
   "file_extension": ".py",
   "mimetype": "text/x-python",
   "name": "python",
   "nbconvert_exporter": "python",
   "pygments_lexer": "ipython3",
   "version": "3.7.4"
  }
 },
 "nbformat": 4,
 "nbformat_minor": 2
}
