{
 "cells": [
  {
   "cell_type": "code",
   "execution_count": 1,
   "metadata": {},
   "outputs": [],
   "source": [
    "import matplotlib.pyplot as plt\n",
    "from sklearn.neighbors import KNeighborsClassifier\n",
    "import pandas as pd\n",
    "import numpy as np\n",
    "import os"
   ]
  },
  {
   "cell_type": "code",
   "execution_count": 8,
   "metadata": {},
   "outputs": [
    {
     "data": {
      "text/html": [
       "<div>\n",
       "<style scoped>\n",
       "    .dataframe tbody tr th:only-of-type {\n",
       "        vertical-align: middle;\n",
       "    }\n",
       "\n",
       "    .dataframe tbody tr th {\n",
       "        vertical-align: top;\n",
       "    }\n",
       "\n",
       "    .dataframe thead th {\n",
       "        text-align: right;\n",
       "    }\n",
       "</style>\n",
       "<table border=\"1\" class=\"dataframe\">\n",
       "  <thead>\n",
       "    <tr style=\"text-align: right;\">\n",
       "      <th></th>\n",
       "      <th>Unnamed: 0</th>\n",
       "      <th>SPX Ti</th>\n",
       "      <th>Date Tf</th>\n",
       "      <th>SPX Tf</th>\n",
       "      <th>Source</th>\n",
       "      <th>Tweet</th>\n",
       "      <th>Date Ti</th>\n",
       "      <th>Retweets</th>\n",
       "      <th>Favorites</th>\n",
       "      <th>SA</th>\n",
       "      <th>% Change SPX</th>\n",
       "    </tr>\n",
       "  </thead>\n",
       "  <tbody>\n",
       "    <tr>\n",
       "      <th>0</th>\n",
       "      <td>0</td>\n",
       "      <td>2244.00</td>\n",
       "      <td>20170102 1849</td>\n",
       "      <td>2244.25</td>\n",
       "      <td>Twitter for Android</td>\n",
       "      <td>I thought and felt I would win big easily over...</td>\n",
       "      <td>20170102 1844</td>\n",
       "      <td>13437</td>\n",
       "      <td>62670</td>\n",
       "      <td>1</td>\n",
       "      <td>0.011141</td>\n",
       "    </tr>\n",
       "    <tr>\n",
       "      <th>1</th>\n",
       "      <td>1</td>\n",
       "      <td>2242.75</td>\n",
       "      <td>20170103 1235</td>\n",
       "      <td>2243.25</td>\n",
       "      <td>Twitter for Android</td>\n",
       "      <td>General Motors is sending Mexican made model o...</td>\n",
       "      <td>20170103 1230</td>\n",
       "      <td>18864</td>\n",
       "      <td>73104</td>\n",
       "      <td>1</td>\n",
       "      <td>0.022294</td>\n",
       "    </tr>\n",
       "    <tr>\n",
       "      <th>2</th>\n",
       "      <td>2</td>\n",
       "      <td>2240.75</td>\n",
       "      <td>20170103 1251</td>\n",
       "      <td>2241.00</td>\n",
       "      <td>Twitter for Android</td>\n",
       "      <td>People must remember that ObamaCare just doesn...</td>\n",
       "      <td>20170103 1246</td>\n",
       "      <td>14481</td>\n",
       "      <td>58809</td>\n",
       "      <td>-1</td>\n",
       "      <td>0.011157</td>\n",
       "    </tr>\n",
       "    <tr>\n",
       "      <th>3</th>\n",
       "      <td>3</td>\n",
       "      <td>2241.00</td>\n",
       "      <td>20170103 1256</td>\n",
       "      <td>2242.75</td>\n",
       "      <td>Twitter for Android</td>\n",
       "      <td>The Democrat Governor.of Minnesota said \"The A...</td>\n",
       "      <td>20170103 1251</td>\n",
       "      <td>12599</td>\n",
       "      <td>53372</td>\n",
       "      <td>-1</td>\n",
       "      <td>0.078090</td>\n",
       "    </tr>\n",
       "    <tr>\n",
       "      <th>4</th>\n",
       "      <td>4</td>\n",
       "      <td>2245.25</td>\n",
       "      <td>20170103 1508</td>\n",
       "      <td>2245.50</td>\n",
       "      <td>Twitter for Android</td>\n",
       "      <td>With all that Congress has to work on do they ...</td>\n",
       "      <td>20170103 1503</td>\n",
       "      <td>10851</td>\n",
       "      <td>43062</td>\n",
       "      <td>-1</td>\n",
       "      <td>0.011135</td>\n",
       "    </tr>\n",
       "  </tbody>\n",
       "</table>\n",
       "</div>"
      ],
      "text/plain": [
       "   Unnamed: 0   SPX Ti        Date Tf   SPX Tf               Source  \\\n",
       "0           0  2244.00  20170102 1849  2244.25  Twitter for Android   \n",
       "1           1  2242.75  20170103 1235  2243.25  Twitter for Android   \n",
       "2           2  2240.75  20170103 1251  2241.00  Twitter for Android   \n",
       "3           3  2241.00  20170103 1256  2242.75  Twitter for Android   \n",
       "4           4  2245.25  20170103 1508  2245.50  Twitter for Android   \n",
       "\n",
       "                                               Tweet        Date Ti  Retweets  \\\n",
       "0  I thought and felt I would win big easily over...  20170102 1844     13437   \n",
       "1  General Motors is sending Mexican made model o...  20170103 1230     18864   \n",
       "2  People must remember that ObamaCare just doesn...  20170103 1246     14481   \n",
       "3  The Democrat Governor.of Minnesota said \"The A...  20170103 1251     12599   \n",
       "4  With all that Congress has to work on do they ...  20170103 1503     10851   \n",
       "\n",
       "   Favorites  SA  % Change SPX  \n",
       "0      62670   1      0.011141  \n",
       "1      73104   1      0.022294  \n",
       "2      58809  -1      0.011157  \n",
       "3      53372  -1      0.078090  \n",
       "4      43062  -1      0.011135  "
      ]
     },
     "execution_count": 8,
     "metadata": {},
     "output_type": "execute_result"
    }
   ],
   "source": [
    "#Load CSV\n",
    "df = pd.read_csv(\"../mergedata_%change.csv\")\n",
    "df.head()"
   ]
  },
  {
   "cell_type": "code",
   "execution_count": 34,
   "metadata": {},
   "outputs": [
    {
     "data": {
      "text/html": [
       "<div>\n",
       "<style scoped>\n",
       "    .dataframe tbody tr th:only-of-type {\n",
       "        vertical-align: middle;\n",
       "    }\n",
       "\n",
       "    .dataframe tbody tr th {\n",
       "        vertical-align: top;\n",
       "    }\n",
       "\n",
       "    .dataframe thead th {\n",
       "        text-align: right;\n",
       "    }\n",
       "</style>\n",
       "<table border=\"1\" class=\"dataframe\">\n",
       "  <thead>\n",
       "    <tr style=\"text-align: right;\">\n",
       "      <th></th>\n",
       "      <th>Unnamed: 0</th>\n",
       "      <th>SPX Ti</th>\n",
       "      <th>Date Tf</th>\n",
       "      <th>SPX Tf</th>\n",
       "      <th>Source</th>\n",
       "      <th>Tweet</th>\n",
       "      <th>Date Ti</th>\n",
       "      <th>Retweets</th>\n",
       "      <th>Favorites</th>\n",
       "      <th>SA</th>\n",
       "      <th>% Change SPX</th>\n",
       "      <th>Market Movement</th>\n",
       "    </tr>\n",
       "  </thead>\n",
       "  <tbody>\n",
       "    <tr>\n",
       "      <th>0</th>\n",
       "      <td>0</td>\n",
       "      <td>2244.000</td>\n",
       "      <td>20170102 1849</td>\n",
       "      <td>2244.25</td>\n",
       "      <td>Twitter for Android</td>\n",
       "      <td>I thought and felt I would win big easily over...</td>\n",
       "      <td>20170102 1844</td>\n",
       "      <td>13437</td>\n",
       "      <td>62670</td>\n",
       "      <td>1</td>\n",
       "      <td>0.011141</td>\n",
       "      <td>1</td>\n",
       "    </tr>\n",
       "    <tr>\n",
       "      <th>1</th>\n",
       "      <td>1</td>\n",
       "      <td>2242.750</td>\n",
       "      <td>20170103 1235</td>\n",
       "      <td>2243.25</td>\n",
       "      <td>Twitter for Android</td>\n",
       "      <td>General Motors is sending Mexican made model o...</td>\n",
       "      <td>20170103 1230</td>\n",
       "      <td>18864</td>\n",
       "      <td>73104</td>\n",
       "      <td>1</td>\n",
       "      <td>0.022294</td>\n",
       "      <td>1</td>\n",
       "    </tr>\n",
       "    <tr>\n",
       "      <th>2</th>\n",
       "      <td>2</td>\n",
       "      <td>2240.750</td>\n",
       "      <td>20170103 1251</td>\n",
       "      <td>2241.00</td>\n",
       "      <td>Twitter for Android</td>\n",
       "      <td>People must remember that ObamaCare just doesn...</td>\n",
       "      <td>20170103 1246</td>\n",
       "      <td>14481</td>\n",
       "      <td>58809</td>\n",
       "      <td>-1</td>\n",
       "      <td>0.011157</td>\n",
       "      <td>1</td>\n",
       "    </tr>\n",
       "    <tr>\n",
       "      <th>3</th>\n",
       "      <td>3</td>\n",
       "      <td>2241.000</td>\n",
       "      <td>20170103 1256</td>\n",
       "      <td>2242.75</td>\n",
       "      <td>Twitter for Android</td>\n",
       "      <td>The Democrat Governor.of Minnesota said \"The A...</td>\n",
       "      <td>20170103 1251</td>\n",
       "      <td>12599</td>\n",
       "      <td>53372</td>\n",
       "      <td>-1</td>\n",
       "      <td>0.078090</td>\n",
       "      <td>1</td>\n",
       "    </tr>\n",
       "    <tr>\n",
       "      <th>4</th>\n",
       "      <td>4</td>\n",
       "      <td>2245.250</td>\n",
       "      <td>20170103 1508</td>\n",
       "      <td>2245.50</td>\n",
       "      <td>Twitter for Android</td>\n",
       "      <td>With all that Congress has to work on do they ...</td>\n",
       "      <td>20170103 1503</td>\n",
       "      <td>10851</td>\n",
       "      <td>43062</td>\n",
       "      <td>-1</td>\n",
       "      <td>0.011135</td>\n",
       "      <td>1</td>\n",
       "    </tr>\n",
       "    <tr>\n",
       "      <th>...</th>\n",
       "      <td>...</td>\n",
       "      <td>...</td>\n",
       "      <td>...</td>\n",
       "      <td>...</td>\n",
       "      <td>...</td>\n",
       "      <td>...</td>\n",
       "      <td>...</td>\n",
       "      <td>...</td>\n",
       "      <td>...</td>\n",
       "      <td>...</td>\n",
       "      <td>...</td>\n",
       "      <td>...</td>\n",
       "    </tr>\n",
       "    <tr>\n",
       "      <th>2950</th>\n",
       "      <td>2950</td>\n",
       "      <td>2498.470</td>\n",
       "      <td>20181228 1247</td>\n",
       "      <td>2497.97</td>\n",
       "      <td>Twitter for iPhone</td>\n",
       "      <td>....The United States looses soooo much money ...</td>\n",
       "      <td>20181228 1242</td>\n",
       "      <td>23736</td>\n",
       "      <td>101103</td>\n",
       "      <td>1</td>\n",
       "      <td>-0.020012</td>\n",
       "      <td>-1</td>\n",
       "    </tr>\n",
       "    <tr>\n",
       "      <th>2951</th>\n",
       "      <td>2951</td>\n",
       "      <td>2495.070</td>\n",
       "      <td>20181228 1254</td>\n",
       "      <td>2496.47</td>\n",
       "      <td>Twitter for iPhone</td>\n",
       "      <td>.....close the Southern Border. Bring our car ...</td>\n",
       "      <td>20181228 1249</td>\n",
       "      <td>25309</td>\n",
       "      <td>108158</td>\n",
       "      <td>1</td>\n",
       "      <td>0.056111</td>\n",
       "      <td>1</td>\n",
       "    </tr>\n",
       "    <tr>\n",
       "      <th>2952</th>\n",
       "      <td>2952</td>\n",
       "      <td>2489.669</td>\n",
       "      <td>20181228 1311</td>\n",
       "      <td>2493.67</td>\n",
       "      <td>Twitter for iPhone</td>\n",
       "      <td>.....Honduras Guatemala and El Salvador are do...</td>\n",
       "      <td>20181228 1306</td>\n",
       "      <td>39548</td>\n",
       "      <td>167132</td>\n",
       "      <td>-1</td>\n",
       "      <td>0.160704</td>\n",
       "      <td>1</td>\n",
       "    </tr>\n",
       "    <tr>\n",
       "      <th>2953</th>\n",
       "      <td>2953</td>\n",
       "      <td>2516.669</td>\n",
       "      <td>20181228 1456</td>\n",
       "      <td>2517.17</td>\n",
       "      <td>Twitter for iPhone</td>\n",
       "      <td>Thank you to Sean Parnell for the nice comment...</td>\n",
       "      <td>20181228 1451</td>\n",
       "      <td>21407</td>\n",
       "      <td>113861</td>\n",
       "      <td>1</td>\n",
       "      <td>0.019907</td>\n",
       "      <td>1</td>\n",
       "    </tr>\n",
       "    <tr>\n",
       "      <th>2954</th>\n",
       "      <td>2954</td>\n",
       "      <td>2504.470</td>\n",
       "      <td>20181230 2204</td>\n",
       "      <td>2505.07</td>\n",
       "      <td>Twitter for iPhone</td>\n",
       "      <td>President and Mrs. Obama built/has a ten foot ...</td>\n",
       "      <td>20181230 2159</td>\n",
       "      <td>61730</td>\n",
       "      <td>233299</td>\n",
       "      <td>0</td>\n",
       "      <td>0.023957</td>\n",
       "      <td>1</td>\n",
       "    </tr>\n",
       "  </tbody>\n",
       "</table>\n",
       "<p>2955 rows × 12 columns</p>\n",
       "</div>"
      ],
      "text/plain": [
       "      Unnamed: 0    SPX Ti        Date Tf   SPX Tf               Source  \\\n",
       "0              0  2244.000  20170102 1849  2244.25  Twitter for Android   \n",
       "1              1  2242.750  20170103 1235  2243.25  Twitter for Android   \n",
       "2              2  2240.750  20170103 1251  2241.00  Twitter for Android   \n",
       "3              3  2241.000  20170103 1256  2242.75  Twitter for Android   \n",
       "4              4  2245.250  20170103 1508  2245.50  Twitter for Android   \n",
       "...          ...       ...            ...      ...                  ...   \n",
       "2950        2950  2498.470  20181228 1247  2497.97   Twitter for iPhone   \n",
       "2951        2951  2495.070  20181228 1254  2496.47   Twitter for iPhone   \n",
       "2952        2952  2489.669  20181228 1311  2493.67   Twitter for iPhone   \n",
       "2953        2953  2516.669  20181228 1456  2517.17   Twitter for iPhone   \n",
       "2954        2954  2504.470  20181230 2204  2505.07   Twitter for iPhone   \n",
       "\n",
       "                                                  Tweet        Date Ti  \\\n",
       "0     I thought and felt I would win big easily over...  20170102 1844   \n",
       "1     General Motors is sending Mexican made model o...  20170103 1230   \n",
       "2     People must remember that ObamaCare just doesn...  20170103 1246   \n",
       "3     The Democrat Governor.of Minnesota said \"The A...  20170103 1251   \n",
       "4     With all that Congress has to work on do they ...  20170103 1503   \n",
       "...                                                 ...            ...   \n",
       "2950  ....The United States looses soooo much money ...  20181228 1242   \n",
       "2951  .....close the Southern Border. Bring our car ...  20181228 1249   \n",
       "2952  .....Honduras Guatemala and El Salvador are do...  20181228 1306   \n",
       "2953  Thank you to Sean Parnell for the nice comment...  20181228 1451   \n",
       "2954  President and Mrs. Obama built/has a ten foot ...  20181230 2159   \n",
       "\n",
       "      Retweets  Favorites  SA  % Change SPX  Market Movement  \n",
       "0        13437      62670   1      0.011141                1  \n",
       "1        18864      73104   1      0.022294                1  \n",
       "2        14481      58809  -1      0.011157                1  \n",
       "3        12599      53372  -1      0.078090                1  \n",
       "4        10851      43062  -1      0.011135                1  \n",
       "...        ...        ...  ..           ...              ...  \n",
       "2950     23736     101103   1     -0.020012               -1  \n",
       "2951     25309     108158   1      0.056111                1  \n",
       "2952     39548     167132  -1      0.160704                1  \n",
       "2953     21407     113861   1      0.019907                1  \n",
       "2954     61730     233299   0      0.023957                1  \n",
       "\n",
       "[2955 rows x 12 columns]"
      ]
     },
     "execution_count": 34,
     "metadata": {},
     "output_type": "execute_result"
    }
   ],
   "source": [
    "#Bin SPX % Change into +1,0,-1 and establish threshold\n",
    "market_movements = []\n",
    "pos_threshold = 0.0001\n",
    "neg_threshold = pos_threshold * -1\n",
    "\n",
    "for index, row in df.iterrows():\n",
    "    if row['% Change SPX'] >= pos_threshold:\n",
    "        market_movement = 1\n",
    "        market_movements.append(market_movement)\n",
    "    elif row['% Change SPX'] <= neg_threshold:\n",
    "        market_movement = -1\n",
    "        market_movements.append(market_movement)\n",
    "    else:\n",
    "        market_movement = 0\n",
    "        market_movements.append(market_movement)\n",
    "\n",
    "#Add new list as column to df\n",
    "df['Market Movement'] = market_movements\n",
    "df"
   ]
  },
  {
   "cell_type": "code",
   "execution_count": 35,
   "metadata": {},
   "outputs": [],
   "source": [
    "#State target output, name the %change bins\n",
    "target = df[\"Market Movement\"]\n",
    "target_names = [\"Positive\", \"No Effect\", \"Negative\"]"
   ]
  },
  {
   "cell_type": "code",
   "execution_count": 36,
   "metadata": {},
   "outputs": [
    {
     "data": {
      "text/html": [
       "<div>\n",
       "<style scoped>\n",
       "    .dataframe tbody tr th:only-of-type {\n",
       "        vertical-align: middle;\n",
       "    }\n",
       "\n",
       "    .dataframe tbody tr th {\n",
       "        vertical-align: top;\n",
       "    }\n",
       "\n",
       "    .dataframe thead th {\n",
       "        text-align: right;\n",
       "    }\n",
       "</style>\n",
       "<table border=\"1\" class=\"dataframe\">\n",
       "  <thead>\n",
       "    <tr style=\"text-align: right;\">\n",
       "      <th></th>\n",
       "      <th>Unnamed: 0</th>\n",
       "      <th>SPX Ti</th>\n",
       "      <th>Date Tf</th>\n",
       "      <th>SPX Tf</th>\n",
       "      <th>Source</th>\n",
       "      <th>Tweet</th>\n",
       "      <th>Date Ti</th>\n",
       "      <th>Retweets</th>\n",
       "      <th>Favorites</th>\n",
       "      <th>SA</th>\n",
       "      <th>% Change SPX</th>\n",
       "    </tr>\n",
       "  </thead>\n",
       "  <tbody>\n",
       "    <tr>\n",
       "      <th>0</th>\n",
       "      <td>0</td>\n",
       "      <td>2244.00</td>\n",
       "      <td>20170102 1849</td>\n",
       "      <td>2244.25</td>\n",
       "      <td>Twitter for Android</td>\n",
       "      <td>I thought and felt I would win big easily over...</td>\n",
       "      <td>20170102 1844</td>\n",
       "      <td>13437</td>\n",
       "      <td>62670</td>\n",
       "      <td>1</td>\n",
       "      <td>0.011141</td>\n",
       "    </tr>\n",
       "    <tr>\n",
       "      <th>1</th>\n",
       "      <td>1</td>\n",
       "      <td>2242.75</td>\n",
       "      <td>20170103 1235</td>\n",
       "      <td>2243.25</td>\n",
       "      <td>Twitter for Android</td>\n",
       "      <td>General Motors is sending Mexican made model o...</td>\n",
       "      <td>20170103 1230</td>\n",
       "      <td>18864</td>\n",
       "      <td>73104</td>\n",
       "      <td>1</td>\n",
       "      <td>0.022294</td>\n",
       "    </tr>\n",
       "    <tr>\n",
       "      <th>2</th>\n",
       "      <td>2</td>\n",
       "      <td>2240.75</td>\n",
       "      <td>20170103 1251</td>\n",
       "      <td>2241.00</td>\n",
       "      <td>Twitter for Android</td>\n",
       "      <td>People must remember that ObamaCare just doesn...</td>\n",
       "      <td>20170103 1246</td>\n",
       "      <td>14481</td>\n",
       "      <td>58809</td>\n",
       "      <td>-1</td>\n",
       "      <td>0.011157</td>\n",
       "    </tr>\n",
       "    <tr>\n",
       "      <th>3</th>\n",
       "      <td>3</td>\n",
       "      <td>2241.00</td>\n",
       "      <td>20170103 1256</td>\n",
       "      <td>2242.75</td>\n",
       "      <td>Twitter for Android</td>\n",
       "      <td>The Democrat Governor.of Minnesota said \"The A...</td>\n",
       "      <td>20170103 1251</td>\n",
       "      <td>12599</td>\n",
       "      <td>53372</td>\n",
       "      <td>-1</td>\n",
       "      <td>0.078090</td>\n",
       "    </tr>\n",
       "    <tr>\n",
       "      <th>4</th>\n",
       "      <td>4</td>\n",
       "      <td>2245.25</td>\n",
       "      <td>20170103 1508</td>\n",
       "      <td>2245.50</td>\n",
       "      <td>Twitter for Android</td>\n",
       "      <td>With all that Congress has to work on do they ...</td>\n",
       "      <td>20170103 1503</td>\n",
       "      <td>10851</td>\n",
       "      <td>43062</td>\n",
       "      <td>-1</td>\n",
       "      <td>0.011135</td>\n",
       "    </tr>\n",
       "  </tbody>\n",
       "</table>\n",
       "</div>"
      ],
      "text/plain": [
       "   Unnamed: 0   SPX Ti        Date Tf   SPX Tf               Source  \\\n",
       "0           0  2244.00  20170102 1849  2244.25  Twitter for Android   \n",
       "1           1  2242.75  20170103 1235  2243.25  Twitter for Android   \n",
       "2           2  2240.75  20170103 1251  2241.00  Twitter for Android   \n",
       "3           3  2241.00  20170103 1256  2242.75  Twitter for Android   \n",
       "4           4  2245.25  20170103 1508  2245.50  Twitter for Android   \n",
       "\n",
       "                                               Tweet        Date Ti  Retweets  \\\n",
       "0  I thought and felt I would win big easily over...  20170102 1844     13437   \n",
       "1  General Motors is sending Mexican made model o...  20170103 1230     18864   \n",
       "2  People must remember that ObamaCare just doesn...  20170103 1246     14481   \n",
       "3  The Democrat Governor.of Minnesota said \"The A...  20170103 1251     12599   \n",
       "4  With all that Congress has to work on do they ...  20170103 1503     10851   \n",
       "\n",
       "   Favorites  SA  % Change SPX  \n",
       "0      62670   1      0.011141  \n",
       "1      73104   1      0.022294  \n",
       "2      58809  -1      0.011157  \n",
       "3      53372  -1      0.078090  \n",
       "4      43062  -1      0.011135  "
      ]
     },
     "execution_count": 36,
     "metadata": {},
     "output_type": "execute_result"
    }
   ],
   "source": [
    "#Remove Output column to avoid data leakage\n",
    "data = df.drop(\"Market Movement\", axis=1)\n",
    "feature_names = data.columns\n",
    "data.head()"
   ]
  },
  {
   "cell_type": "code",
   "execution_count": 37,
   "metadata": {},
   "outputs": [],
   "source": [
    "# tokenize, then remove stopwords, ngrams, sentiment analysis feature selection\n",
    "#either truncate or append to vector"
   ]
  },
  {
   "cell_type": "markdown",
   "metadata": {},
   "source": [
    "## Count Vectorizer"
   ]
  },
  {
   "cell_type": "code",
   "execution_count": 60,
   "metadata": {},
   "outputs": [
    {
     "data": {
      "text/plain": [
       "<2955x80131 sparse matrix of type '<class 'numpy.int64'>'\n",
       "\twith 128391 stored elements in Compressed Sparse Row format>"
      ]
     },
     "execution_count": 60,
     "metadata": {},
     "output_type": "execute_result"
    }
   ],
   "source": [
    "from sklearn.feature_extraction import stop_words\n",
    "from sklearn.feature_extraction.text import CountVectorizer\n",
    "\n",
    "corpus = df['Tweet']\n",
    "\n",
    "vectorizer2 = CountVectorizer(analyzer='word', ngram_range=(1, 3), stop_words = 'english')\n",
    "vector = vectorizer2.fit_transform(corpus)\n",
    "vector"
   ]
  },
  {
   "cell_type": "code",
   "execution_count": 61,
   "metadata": {},
   "outputs": [],
   "source": [
    "from sklearn.model_selection import train_test_split\n",
    "X_train, X_test, y_train, y_test = train_test_split(vector.toarray(), target, random_state=42)"
   ]
  },
  {
   "cell_type": "code",
   "execution_count": 62,
   "metadata": {},
   "outputs": [
    {
     "data": {
      "text/plain": [
       "SVC(C=1.0, break_ties=False, cache_size=200, class_weight=None, coef0=0.0,\n",
       "    decision_function_shape='ovr', degree=3, gamma='scale', kernel='linear',\n",
       "    max_iter=-1, probability=False, random_state=None, shrinking=True,\n",
       "    tol=0.001, verbose=False)"
      ]
     },
     "execution_count": 62,
     "metadata": {},
     "output_type": "execute_result"
    }
   ],
   "source": [
    "from sklearn.svm import SVC \n",
    "model = SVC(kernel='linear')\n",
    "model.fit(X_train, y_train)"
   ]
  },
  {
   "cell_type": "code",
   "execution_count": 63,
   "metadata": {},
   "outputs": [
    {
     "name": "stdout",
     "output_type": "stream",
     "text": [
      "Test Acc: 0.4208\n",
      "              precision    recall  f1-score   support\n",
      "\n",
      "    Positive       0.41      0.46      0.43       310\n",
      "   No Effect       0.31      0.05      0.08       102\n",
      "    Negative       0.44      0.50      0.47       327\n",
      "\n",
      "    accuracy                           0.42       739\n",
      "   macro avg       0.39      0.34      0.33       739\n",
      "weighted avg       0.41      0.42      0.40       739\n",
      "\n"
     ]
    }
   ],
   "source": [
    "print('Test Acc: %.4f' % model.score(X_test, y_test))\n",
    "\n",
    "# Calculate classification report\n",
    "from sklearn.metrics import classification_report\n",
    "predictions = model.predict(X_test)\n",
    "print(classification_report(y_test, predictions,\n",
    "                            target_names=target_names))"
   ]
  },
  {
   "cell_type": "markdown",
   "metadata": {},
   "source": [
    "## Hashing Vectorizer"
   ]
  },
  {
   "cell_type": "code",
   "execution_count": 44,
   "metadata": {},
   "outputs": [
    {
     "name": "stdout",
     "output_type": "stream",
     "text": [
      "(2955, 2000)\n",
      "[[ 0.          0.          0.         ...  0.          0.\n",
      "   0.        ]\n",
      " [ 0.          0.          0.         ...  0.          0.\n",
      "   0.        ]\n",
      " [ 0.          0.          0.         ...  0.          0.\n",
      "   0.        ]\n",
      " ...\n",
      " [ 0.          0.          0.         ...  0.08006408  0.\n",
      "   0.        ]\n",
      " [ 0.          0.          0.         ...  0.          0.\n",
      "   0.        ]\n",
      " [-0.10540926  0.          0.         ...  0.          0.\n",
      "   0.        ]]\n"
     ]
    }
   ],
   "source": [
    "from sklearn.feature_extraction.text import HashingVectorizer\n",
    "\n",
    "# list of text documents\n",
    "text = data[\"Tweet\"]\n",
    "# create the transform\n",
    "vectorizer = HashingVectorizer(n_features=2000, ngram_range=(1, 3))\n",
    "# encode document\n",
    "vector = vectorizer.transform(text)\n",
    "# summarize encoded vector\n",
    "print(vector.shape)\n",
    "print(vector.toarray())"
   ]
  },
  {
   "cell_type": "code",
   "execution_count": 45,
   "metadata": {},
   "outputs": [
    {
     "data": {
      "text/plain": [
       "<2955x2000 sparse matrix of type '<class 'numpy.float64'>'\n",
       "\twith 226631 stored elements in Compressed Sparse Row format>"
      ]
     },
     "execution_count": 45,
     "metadata": {},
     "output_type": "execute_result"
    }
   ],
   "source": [
    "vector"
   ]
  },
  {
   "cell_type": "code",
   "execution_count": 46,
   "metadata": {},
   "outputs": [],
   "source": [
    "from sklearn.model_selection import train_test_split\n",
    "X_train, X_test, y_train, y_test = train_test_split(vector.toarray(), target, random_state=42)"
   ]
  },
  {
   "cell_type": "code",
   "execution_count": 47,
   "metadata": {},
   "outputs": [
    {
     "data": {
      "text/plain": [
       "SVC(C=1.0, break_ties=False, cache_size=200, class_weight=None, coef0=0.0,\n",
       "    decision_function_shape='ovr', degree=3, gamma='scale', kernel='linear',\n",
       "    max_iter=-1, probability=False, random_state=None, shrinking=True,\n",
       "    tol=0.001, verbose=False)"
      ]
     },
     "execution_count": 47,
     "metadata": {},
     "output_type": "execute_result"
    }
   ],
   "source": [
    "from sklearn.svm import SVC \n",
    "model = SVC(kernel='linear')\n",
    "model.fit(X_train, y_train)"
   ]
  },
  {
   "cell_type": "code",
   "execution_count": 48,
   "metadata": {},
   "outputs": [
    {
     "name": "stdout",
     "output_type": "stream",
     "text": [
      "Test Acc: 0.4073\n"
     ]
    }
   ],
   "source": [
    "print('Test Acc: %.4f' % model.score(X_test, y_test))"
   ]
  },
  {
   "cell_type": "code",
   "execution_count": 49,
   "metadata": {},
   "outputs": [
    {
     "name": "stdout",
     "output_type": "stream",
     "text": [
      "              precision    recall  f1-score   support\n",
      "\n",
      "    Positive       0.41      0.48      0.44       310\n",
      "   No Effect       0.00      0.00      0.00       102\n",
      "    Negative       0.41      0.47      0.44       327\n",
      "\n",
      "    accuracy                           0.41       739\n",
      "   macro avg       0.27      0.32      0.29       739\n",
      "weighted avg       0.35      0.41      0.38       739\n",
      "\n"
     ]
    },
    {
     "name": "stderr",
     "output_type": "stream",
     "text": [
      "C:\\Users\\Natha\\Anaconda3\\lib\\site-packages\\sklearn\\metrics\\_classification.py:1272: UndefinedMetricWarning: Precision and F-score are ill-defined and being set to 0.0 in labels with no predicted samples. Use `zero_division` parameter to control this behavior.\n",
      "  _warn_prf(average, modifier, msg_start, len(result))\n"
     ]
    }
   ],
   "source": [
    "# Calculate classification report\n",
    "from sklearn.metrics import classification_report\n",
    "predictions = model.predict(X_test)\n",
    "print(classification_report(y_test, predictions,\n",
    "                            target_names=target_names))"
   ]
  },
  {
   "cell_type": "code",
   "execution_count": 47,
   "metadata": {},
   "outputs": [],
   "source": [
    "target = data[\"RTs\"]\n",
    "target_names = [\"Positive\", \"No Effect\", \"Negative\"]"
   ]
  },
  {
   "cell_type": "code",
   "execution_count": 48,
   "metadata": {},
   "outputs": [],
   "source": [
    "from sklearn.model_selection import train_test_split\n",
    "X_train, X_test, y_train, y_test = train_test_split(vector.toarray(), target, random_state=42)"
   ]
  },
  {
   "cell_type": "code",
   "execution_count": 49,
   "metadata": {},
   "outputs": [
    {
     "data": {
      "text/plain": [
       "SVC(C=1.0, break_ties=False, cache_size=200, class_weight=None, coef0=0.0,\n",
       "    decision_function_shape='ovr', degree=3, gamma='scale', kernel='linear',\n",
       "    max_iter=-1, probability=False, random_state=None, shrinking=True,\n",
       "    tol=0.001, verbose=False)"
      ]
     },
     "execution_count": 49,
     "metadata": {},
     "output_type": "execute_result"
    }
   ],
   "source": [
    "model = SVC(kernel='linear')\n",
    "model.fit(X_train, y_train)"
   ]
  },
  {
   "cell_type": "code",
   "execution_count": 50,
   "metadata": {},
   "outputs": [
    {
     "name": "stdout",
     "output_type": "stream",
     "text": [
      "Test Acc: 0.0200\n"
     ]
    }
   ],
   "source": [
    "print('Test Acc: %.4f' % model.score(X_test, y_test))"
   ]
  },
  {
   "cell_type": "code",
   "execution_count": null,
   "metadata": {},
   "outputs": [],
   "source": []
  }
 ],
 "metadata": {
  "kernelspec": {
   "display_name": "Python 3",
   "language": "python",
   "name": "python3"
  },
  "language_info": {
   "codemirror_mode": {
    "name": "ipython",
    "version": 3
   },
   "file_extension": ".py",
   "mimetype": "text/x-python",
   "name": "python",
   "nbconvert_exporter": "python",
   "pygments_lexer": "ipython3",
   "version": "3.7.4"
  }
 },
 "nbformat": 4,
 "nbformat_minor": 2
}
