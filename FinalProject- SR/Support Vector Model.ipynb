{
 "cells": [
  {
   "cell_type": "code",
   "execution_count": 1,
   "metadata": {},
   "outputs": [],
   "source": [
    "import matplotlib.pyplot as plt\n",
    "from sklearn.neighbors import KNeighborsClassifier\n",
    "import pandas as pd\n",
    "import numpy as np\n",
    "import os"
   ]
  },
  {
   "cell_type": "code",
   "execution_count": 2,
   "metadata": {},
   "outputs": [
    {
     "data": {
      "text/html": [
       "<div>\n",
       "<style scoped>\n",
       "    .dataframe tbody tr th:only-of-type {\n",
       "        vertical-align: middle;\n",
       "    }\n",
       "\n",
       "    .dataframe tbody tr th {\n",
       "        vertical-align: top;\n",
       "    }\n",
       "\n",
       "    .dataframe thead th {\n",
       "        text-align: right;\n",
       "    }\n",
       "</style>\n",
       "<table border=\"1\" class=\"dataframe\">\n",
       "  <thead>\n",
       "    <tr style=\"text-align: right;\">\n",
       "      <th></th>\n",
       "      <th>Tweets</th>\n",
       "      <th>len</th>\n",
       "      <th>ID</th>\n",
       "      <th>Date</th>\n",
       "      <th>Likes</th>\n",
       "      <th>RTs</th>\n",
       "      <th>Market Movement</th>\n",
       "      <th>SA</th>\n",
       "    </tr>\n",
       "  </thead>\n",
       "  <tbody>\n",
       "    <tr>\n",
       "      <th>0</th>\n",
       "      <td>RT @WhiteHouse: In response to the virus, the ...</td>\n",
       "      <td>140</td>\n",
       "      <td>1248716255001030656</td>\n",
       "      <td>2020-04-10 20:55:29</td>\n",
       "      <td>0</td>\n",
       "      <td>5323</td>\n",
       "      <td>0</td>\n",
       "      <td>1</td>\n",
       "    </tr>\n",
       "    <tr>\n",
       "      <th>1</th>\n",
       "      <td>RT @WhiteHouse: This Sunday, millions of Chris...</td>\n",
       "      <td>140</td>\n",
       "      <td>1248716218867101696</td>\n",
       "      <td>2020-04-10 20:55:21</td>\n",
       "      <td>0</td>\n",
       "      <td>7271</td>\n",
       "      <td>-1</td>\n",
       "      <td>-1</td>\n",
       "    </tr>\n",
       "    <tr>\n",
       "      <th>2</th>\n",
       "      <td>RT @WhiteHouse: The data is clear: Our collect...</td>\n",
       "      <td>130</td>\n",
       "      <td>1248716207311773702</td>\n",
       "      <td>2020-04-10 20:55:18</td>\n",
       "      <td>0</td>\n",
       "      <td>4199</td>\n",
       "      <td>1</td>\n",
       "      <td>1</td>\n",
       "    </tr>\n",
       "    <tr>\n",
       "      <th>3</th>\n",
       "      <td>RT @WhiteHouse: LIVE: Press Briefing with Coro...</td>\n",
       "      <td>88</td>\n",
       "      <td>1248670360507121665</td>\n",
       "      <td>2020-04-10 17:53:07</td>\n",
       "      <td>0</td>\n",
       "      <td>6191</td>\n",
       "      <td>-1</td>\n",
       "      <td>1</td>\n",
       "    </tr>\n",
       "    <tr>\n",
       "      <th>4</th>\n",
       "      <td>https://t.co/HGD0GHUOjt</td>\n",
       "      <td>23</td>\n",
       "      <td>1248653185969016833</td>\n",
       "      <td>2020-04-10 16:44:53</td>\n",
       "      <td>67151</td>\n",
       "      <td>18949</td>\n",
       "      <td>-1</td>\n",
       "      <td>0</td>\n",
       "    </tr>\n",
       "  </tbody>\n",
       "</table>\n",
       "</div>"
      ],
      "text/plain": [
       "                                              Tweets  len  \\\n",
       "0  RT @WhiteHouse: In response to the virus, the ...  140   \n",
       "1  RT @WhiteHouse: This Sunday, millions of Chris...  140   \n",
       "2  RT @WhiteHouse: The data is clear: Our collect...  130   \n",
       "3  RT @WhiteHouse: LIVE: Press Briefing with Coro...   88   \n",
       "4                            https://t.co/HGD0GHUOjt   23   \n",
       "\n",
       "                    ID                 Date  Likes    RTs  Market Movement  SA  \n",
       "0  1248716255001030656  2020-04-10 20:55:29      0   5323                0   1  \n",
       "1  1248716218867101696  2020-04-10 20:55:21      0   7271               -1  -1  \n",
       "2  1248716207311773702  2020-04-10 20:55:18      0   4199                1   1  \n",
       "3  1248670360507121665  2020-04-10 17:53:07      0   6191               -1   1  \n",
       "4  1248653185969016833  2020-04-10 16:44:53  67151  18949               -1   0  "
      ]
     },
     "execution_count": 2,
     "metadata": {},
     "output_type": "execute_result"
    }
   ],
   "source": [
    "df = pd.read_csv(os.path.join(\"Resources\", \"Trump_Tweet_Data.csv\"))\n",
    "\n",
    "df = df.drop(\"Source\", axis=1)\n",
    "\n",
    "df.head()"
   ]
  },
  {
   "cell_type": "code",
   "execution_count": 3,
   "metadata": {},
   "outputs": [],
   "source": [
    "target = df[\"Market Movement\"]\n",
    "target_names = [\"Positive\", \"No Effect\", \"Negative\"]"
   ]
  },
  {
   "cell_type": "code",
   "execution_count": 4,
   "metadata": {},
   "outputs": [
    {
     "data": {
      "text/html": [
       "<div>\n",
       "<style scoped>\n",
       "    .dataframe tbody tr th:only-of-type {\n",
       "        vertical-align: middle;\n",
       "    }\n",
       "\n",
       "    .dataframe tbody tr th {\n",
       "        vertical-align: top;\n",
       "    }\n",
       "\n",
       "    .dataframe thead th {\n",
       "        text-align: right;\n",
       "    }\n",
       "</style>\n",
       "<table border=\"1\" class=\"dataframe\">\n",
       "  <thead>\n",
       "    <tr style=\"text-align: right;\">\n",
       "      <th></th>\n",
       "      <th>Tweets</th>\n",
       "      <th>len</th>\n",
       "      <th>ID</th>\n",
       "      <th>Date</th>\n",
       "      <th>Likes</th>\n",
       "      <th>RTs</th>\n",
       "      <th>SA</th>\n",
       "    </tr>\n",
       "  </thead>\n",
       "  <tbody>\n",
       "    <tr>\n",
       "      <th>0</th>\n",
       "      <td>RT @WhiteHouse: In response to the virus, the ...</td>\n",
       "      <td>140</td>\n",
       "      <td>1248716255001030656</td>\n",
       "      <td>2020-04-10 20:55:29</td>\n",
       "      <td>0</td>\n",
       "      <td>5323</td>\n",
       "      <td>1</td>\n",
       "    </tr>\n",
       "    <tr>\n",
       "      <th>1</th>\n",
       "      <td>RT @WhiteHouse: This Sunday, millions of Chris...</td>\n",
       "      <td>140</td>\n",
       "      <td>1248716218867101696</td>\n",
       "      <td>2020-04-10 20:55:21</td>\n",
       "      <td>0</td>\n",
       "      <td>7271</td>\n",
       "      <td>-1</td>\n",
       "    </tr>\n",
       "    <tr>\n",
       "      <th>2</th>\n",
       "      <td>RT @WhiteHouse: The data is clear: Our collect...</td>\n",
       "      <td>130</td>\n",
       "      <td>1248716207311773702</td>\n",
       "      <td>2020-04-10 20:55:18</td>\n",
       "      <td>0</td>\n",
       "      <td>4199</td>\n",
       "      <td>1</td>\n",
       "    </tr>\n",
       "    <tr>\n",
       "      <th>3</th>\n",
       "      <td>RT @WhiteHouse: LIVE: Press Briefing with Coro...</td>\n",
       "      <td>88</td>\n",
       "      <td>1248670360507121665</td>\n",
       "      <td>2020-04-10 17:53:07</td>\n",
       "      <td>0</td>\n",
       "      <td>6191</td>\n",
       "      <td>1</td>\n",
       "    </tr>\n",
       "    <tr>\n",
       "      <th>4</th>\n",
       "      <td>https://t.co/HGD0GHUOjt</td>\n",
       "      <td>23</td>\n",
       "      <td>1248653185969016833</td>\n",
       "      <td>2020-04-10 16:44:53</td>\n",
       "      <td>67151</td>\n",
       "      <td>18949</td>\n",
       "      <td>0</td>\n",
       "    </tr>\n",
       "  </tbody>\n",
       "</table>\n",
       "</div>"
      ],
      "text/plain": [
       "                                              Tweets  len  \\\n",
       "0  RT @WhiteHouse: In response to the virus, the ...  140   \n",
       "1  RT @WhiteHouse: This Sunday, millions of Chris...  140   \n",
       "2  RT @WhiteHouse: The data is clear: Our collect...  130   \n",
       "3  RT @WhiteHouse: LIVE: Press Briefing with Coro...   88   \n",
       "4                            https://t.co/HGD0GHUOjt   23   \n",
       "\n",
       "                    ID                 Date  Likes    RTs  SA  \n",
       "0  1248716255001030656  2020-04-10 20:55:29      0   5323   1  \n",
       "1  1248716218867101696  2020-04-10 20:55:21      0   7271  -1  \n",
       "2  1248716207311773702  2020-04-10 20:55:18      0   4199   1  \n",
       "3  1248670360507121665  2020-04-10 17:53:07      0   6191   1  \n",
       "4  1248653185969016833  2020-04-10 16:44:53  67151  18949   0  "
      ]
     },
     "execution_count": 4,
     "metadata": {},
     "output_type": "execute_result"
    }
   ],
   "source": [
    "data = df.drop(\"Market Movement\", axis=1)\n",
    "feature_names = data.columns\n",
    "data.head()"
   ]
  },
  {
   "cell_type": "code",
   "execution_count": 5,
   "metadata": {},
   "outputs": [],
   "source": [
    "# tokenize, then remove stopwords, ngrams, sentiment analysis feature selection\n",
    "#either truncate or append to vector"
   ]
  },
  {
   "cell_type": "code",
   "execution_count": 21,
   "metadata": {},
   "outputs": [
    {
     "name": "stdout",
     "output_type": "stream",
     "text": [
      "(200, 10000)\n",
      "[[0. 0. 0. ... 0. 0. 0.]\n",
      " [0. 0. 0. ... 0. 0. 0.]\n",
      " [0. 0. 0. ... 0. 0. 0.]\n",
      " ...\n",
      " [0. 0. 0. ... 0. 0. 0.]\n",
      " [0. 0. 0. ... 0. 0. 0.]\n",
      " [0. 0. 0. ... 0. 0. 0.]]\n"
     ]
    }
   ],
   "source": [
    "from sklearn.feature_extraction.text import HashingVectorizer\n",
    "# list of text documents\n",
    "text = data[\"Tweets\"]\n",
    "# create the transform\n",
    "vectorizer = HashingVectorizer(n_features=10000, ngram_range=(1, 3))\n",
    "# encode document\n",
    "vector = vectorizer.transform(text)\n",
    "# summarize encoded vector\n",
    "print(vector.shape)\n",
    "print(vector.toarray())"
   ]
  },
  {
   "cell_type": "code",
   "execution_count": 22,
   "metadata": {},
   "outputs": [
    {
     "data": {
      "text/plain": [
       "<200x10000 sparse matrix of type '<class 'numpy.float64'>'\n",
       "\twith 9326 stored elements in Compressed Sparse Row format>"
      ]
     },
     "execution_count": 22,
     "metadata": {},
     "output_type": "execute_result"
    }
   ],
   "source": [
    "vector"
   ]
  },
  {
   "cell_type": "code",
   "execution_count": 23,
   "metadata": {},
   "outputs": [],
   "source": [
    "from sklearn.model_selection import train_test_split\n",
    "X_train, X_test, y_train, y_test = train_test_split(vector.toarray(), target, random_state=42)\n",
    "\n"
   ]
  },
  {
   "cell_type": "code",
   "execution_count": 24,
   "metadata": {},
   "outputs": [
    {
     "data": {
      "text/plain": [
       "SVC(C=1.0, break_ties=False, cache_size=200, class_weight=None, coef0=0.0,\n",
       "    decision_function_shape='ovr', degree=3, gamma='scale', kernel='linear',\n",
       "    max_iter=-1, probability=False, random_state=None, shrinking=True,\n",
       "    tol=0.001, verbose=False)"
      ]
     },
     "execution_count": 24,
     "metadata": {},
     "output_type": "execute_result"
    }
   ],
   "source": [
    "from sklearn.svm import SVC \n",
    "model = SVC(kernel='linear')\n",
    "model.fit(X_train, y_train)"
   ]
  },
  {
   "cell_type": "code",
   "execution_count": 25,
   "metadata": {},
   "outputs": [
    {
     "name": "stdout",
     "output_type": "stream",
     "text": [
      "Test Acc: 0.3400\n"
     ]
    }
   ],
   "source": [
    "print('Test Acc: %.4f' % model.score(X_test, y_test))"
   ]
  },
  {
   "cell_type": "code",
   "execution_count": 42,
   "metadata": {},
   "outputs": [
    {
     "name": "stdout",
     "output_type": "stream",
     "text": [
      "              precision    recall  f1-score   support\n",
      "\n",
      "    Positive       0.25      0.46      0.32        13\n",
      "   No Effect       0.35      0.33      0.34        24\n",
      "    Negative       0.33      0.08      0.12        13\n",
      "\n",
      "    accuracy                           0.30        50\n",
      "   macro avg       0.31      0.29      0.26        50\n",
      "weighted avg       0.32      0.30      0.28        50\n",
      "\n"
     ]
    }
   ],
   "source": [
    "# Calculate classification report\n",
    "from sklearn.metrics import classification_report\n",
    "predictions = model.predict(X_test)\n",
    "print(classification_report(y_test, predictions,\n",
    "                            target_names=target_names))"
   ]
  },
  {
   "cell_type": "code",
   "execution_count": 47,
   "metadata": {},
   "outputs": [],
   "source": [
    "target = data[\"RTs\"]\n",
    "target_names = [\"Positive\", \"No Effect\", \"Negative\"]"
   ]
  },
  {
   "cell_type": "code",
   "execution_count": 48,
   "metadata": {},
   "outputs": [],
   "source": [
    "from sklearn.model_selection import train_test_split\n",
    "X_train, X_test, y_train, y_test = train_test_split(vector.toarray(), target, random_state=42)"
   ]
  },
  {
   "cell_type": "code",
   "execution_count": 49,
   "metadata": {},
   "outputs": [
    {
     "data": {
      "text/plain": [
       "SVC(C=1.0, break_ties=False, cache_size=200, class_weight=None, coef0=0.0,\n",
       "    decision_function_shape='ovr', degree=3, gamma='scale', kernel='linear',\n",
       "    max_iter=-1, probability=False, random_state=None, shrinking=True,\n",
       "    tol=0.001, verbose=False)"
      ]
     },
     "execution_count": 49,
     "metadata": {},
     "output_type": "execute_result"
    }
   ],
   "source": [
    "model = SVC(kernel='linear')\n",
    "model.fit(X_train, y_train)"
   ]
  },
  {
   "cell_type": "code",
   "execution_count": 50,
   "metadata": {},
   "outputs": [
    {
     "name": "stdout",
     "output_type": "stream",
     "text": [
      "Test Acc: 0.0200\n"
     ]
    }
   ],
   "source": [
    "print('Test Acc: %.4f' % model.score(X_test, y_test))"
   ]
  },
  {
   "cell_type": "code",
   "execution_count": null,
   "metadata": {},
   "outputs": [],
   "source": []
  }
 ],
 "metadata": {
  "kernelspec": {
   "display_name": "Python 3",
   "language": "python",
   "name": "python3"
  },
  "language_info": {
   "codemirror_mode": {
    "name": "ipython",
    "version": 3
   },
   "file_extension": ".py",
   "mimetype": "text/x-python",
   "name": "python",
   "nbconvert_exporter": "python",
   "pygments_lexer": "ipython3",
   "version": "3.7.4"
  }
 },
 "nbformat": 4,
 "nbformat_minor": 2
}
