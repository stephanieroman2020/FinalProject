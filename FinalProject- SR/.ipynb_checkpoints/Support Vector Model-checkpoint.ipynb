{
 "cells": [
  {
   "cell_type": "code",
   "execution_count": 1,
   "metadata": {},
   "outputs": [],
   "source": [
    "import matplotlib.pyplot as plt\n",
    "from sklearn.neighbors import KNeighborsClassifier\n",
    "import pandas as pd\n",
    "import numpy as np\n",
    "import os"
   ]
  },
  {
   "cell_type": "code",
   "execution_count": 2,
   "metadata": {},
   "outputs": [
    {
     "data": {
      "text/html": [
       "<div>\n",
       "<style scoped>\n",
       "    .dataframe tbody tr th:only-of-type {\n",
       "        vertical-align: middle;\n",
       "    }\n",
       "\n",
       "    .dataframe tbody tr th {\n",
       "        vertical-align: top;\n",
       "    }\n",
       "\n",
       "    .dataframe thead th {\n",
       "        text-align: right;\n",
       "    }\n",
       "</style>\n",
       "<table border=\"1\" class=\"dataframe\">\n",
       "  <thead>\n",
       "    <tr style=\"text-align: right;\">\n",
       "      <th></th>\n",
       "      <th>text</th>\n",
       "      <th>created_at</th>\n",
       "      <th>retweet_count</th>\n",
       "      <th>favorite_count</th>\n",
       "      <th>is_retweet</th>\n",
       "      <th>id_str</th>\n",
       "    </tr>\n",
       "  </thead>\n",
       "  <tbody>\n",
       "    <tr>\n",
       "      <th>0</th>\n",
       "      <td>President and Mrs. Obama built/has a ten foot ...</td>\n",
       "      <td>12/30/2018 21:59</td>\n",
       "      <td>61730.0</td>\n",
       "      <td>233299.0</td>\n",
       "      <td>False</td>\n",
       "      <td>1.079500e+18</td>\n",
       "    </tr>\n",
       "    <tr>\n",
       "      <th>1</th>\n",
       "      <td>Great work by my Administration over the holid...</td>\n",
       "      <td>12/30/2018 16:56</td>\n",
       "      <td>32041.0</td>\n",
       "      <td>130761.0</td>\n",
       "      <td>False</td>\n",
       "      <td>1.079420e+18</td>\n",
       "    </tr>\n",
       "    <tr>\n",
       "      <th>2</th>\n",
       "      <td>Veterans on President Trumps handling of Bord...</td>\n",
       "      <td>12/30/2018 15:28</td>\n",
       "      <td>25749.0</td>\n",
       "      <td>123564.0</td>\n",
       "      <td>False</td>\n",
       "      <td>1.079400e+18</td>\n",
       "    </tr>\n",
       "    <tr>\n",
       "      <th>3</th>\n",
       "      <td>It turns out to be true now that the Departme...</td>\n",
       "      <td>12/30/2018 3:15</td>\n",
       "      <td>44877.0</td>\n",
       "      <td>150051.0</td>\n",
       "      <td>False</td>\n",
       "      <td>1.079210e+18</td>\n",
       "    </tr>\n",
       "    <tr>\n",
       "      <th>4</th>\n",
       "      <td>Absolutely nothing (on Russian Collusion). K...</td>\n",
       "      <td>12/30/2018 3:01</td>\n",
       "      <td>30777.0</td>\n",
       "      <td>118155.0</td>\n",
       "      <td>False</td>\n",
       "      <td>1.079210e+18</td>\n",
       "    </tr>\n",
       "  </tbody>\n",
       "</table>\n",
       "</div>"
      ],
      "text/plain": [
       "                                                text        created_at  \\\n",
       "0  President and Mrs. Obama built/has a ten foot ...  12/30/2018 21:59   \n",
       "1  Great work by my Administration over the holid...  12/30/2018 16:56   \n",
       "2  Veterans on President Trumps handling of Bord...  12/30/2018 15:28   \n",
       "3  It turns out to be true now that the Departme...   12/30/2018 3:15   \n",
       "4  Absolutely nothing (on Russian Collusion). K...   12/30/2018 3:01   \n",
       "\n",
       "   retweet_count  favorite_count is_retweet        id_str  \n",
       "0        61730.0        233299.0      False  1.079500e+18  \n",
       "1        32041.0        130761.0      False  1.079420e+18  \n",
       "2        25749.0        123564.0      False  1.079400e+18  \n",
       "3        44877.0        150051.0      False  1.079210e+18  \n",
       "4        30777.0        118155.0      False  1.079210e+18  "
      ]
     },
     "execution_count": 2,
     "metadata": {},
     "output_type": "execute_result"
    }
   ],
   "source": [
    "df = pd.read_csv(os.path.join(\"Resources\", \"Trump Data 10000 Rows.csv\"), encoding= 'unicode_escape')\n",
    "\n",
    "df = df.drop(\"source\", axis=1)\n",
    "\n",
    "df.head()"
   ]
  },
  {
   "cell_type": "code",
   "execution_count": 3,
   "metadata": {},
   "outputs": [
    {
     "data": {
      "text/html": [
       "<div>\n",
       "<style scoped>\n",
       "    .dataframe tbody tr th:only-of-type {\n",
       "        vertical-align: middle;\n",
       "    }\n",
       "\n",
       "    .dataframe tbody tr th {\n",
       "        vertical-align: top;\n",
       "    }\n",
       "\n",
       "    .dataframe thead th {\n",
       "        text-align: right;\n",
       "    }\n",
       "</style>\n",
       "<table border=\"1\" class=\"dataframe\">\n",
       "  <thead>\n",
       "    <tr style=\"text-align: right;\">\n",
       "      <th></th>\n",
       "      <th>text</th>\n",
       "      <th>created_at</th>\n",
       "      <th>retweet_count</th>\n",
       "      <th>favorite_count</th>\n",
       "      <th>is_retweet</th>\n",
       "      <th>id_str</th>\n",
       "      <th>Market Movement</th>\n",
       "    </tr>\n",
       "  </thead>\n",
       "  <tbody>\n",
       "    <tr>\n",
       "      <th>0</th>\n",
       "      <td>President and Mrs. Obama built/has a ten foot ...</td>\n",
       "      <td>12/30/2018 21:59</td>\n",
       "      <td>61730.0</td>\n",
       "      <td>233299.0</td>\n",
       "      <td>False</td>\n",
       "      <td>1.079500e+18</td>\n",
       "      <td>-1</td>\n",
       "    </tr>\n",
       "    <tr>\n",
       "      <th>1</th>\n",
       "      <td>Great work by my Administration over the holid...</td>\n",
       "      <td>12/30/2018 16:56</td>\n",
       "      <td>32041.0</td>\n",
       "      <td>130761.0</td>\n",
       "      <td>False</td>\n",
       "      <td>1.079420e+18</td>\n",
       "      <td>0</td>\n",
       "    </tr>\n",
       "    <tr>\n",
       "      <th>2</th>\n",
       "      <td>Veterans on President Trumps handling of Bord...</td>\n",
       "      <td>12/30/2018 15:28</td>\n",
       "      <td>25749.0</td>\n",
       "      <td>123564.0</td>\n",
       "      <td>False</td>\n",
       "      <td>1.079400e+18</td>\n",
       "      <td>-1</td>\n",
       "    </tr>\n",
       "    <tr>\n",
       "      <th>3</th>\n",
       "      <td>It turns out to be true now that the Departme...</td>\n",
       "      <td>12/30/2018 3:15</td>\n",
       "      <td>44877.0</td>\n",
       "      <td>150051.0</td>\n",
       "      <td>False</td>\n",
       "      <td>1.079210e+18</td>\n",
       "      <td>1</td>\n",
       "    </tr>\n",
       "    <tr>\n",
       "      <th>4</th>\n",
       "      <td>Absolutely nothing (on Russian Collusion). K...</td>\n",
       "      <td>12/30/2018 3:01</td>\n",
       "      <td>30777.0</td>\n",
       "      <td>118155.0</td>\n",
       "      <td>False</td>\n",
       "      <td>1.079210e+18</td>\n",
       "      <td>-1</td>\n",
       "    </tr>\n",
       "    <tr>\n",
       "      <th>...</th>\n",
       "      <td>...</td>\n",
       "      <td>...</td>\n",
       "      <td>...</td>\n",
       "      <td>...</td>\n",
       "      <td>...</td>\n",
       "      <td>...</td>\n",
       "      <td>...</td>\n",
       "    </tr>\n",
       "    <tr>\n",
       "      <th>10361</th>\n",
       "      <td>I hope Bill Clinton starts talking about women...</td>\n",
       "      <td>1/2/2016 20:04</td>\n",
       "      <td>3609.0</td>\n",
       "      <td>8017.0</td>\n",
       "      <td>False</td>\n",
       "      <td>6.833780e+17</td>\n",
       "      <td>1</td>\n",
       "    </tr>\n",
       "    <tr>\n",
       "      <th>10362</th>\n",
       "      <td>Hillary Clinton doesn't have the strength or s...</td>\n",
       "      <td>1/2/2016 20:00</td>\n",
       "      <td>2238.0</td>\n",
       "      <td>6568.0</td>\n",
       "      <td>False</td>\n",
       "      <td>6.833770e+17</td>\n",
       "      <td>-1</td>\n",
       "    </tr>\n",
       "    <tr>\n",
       "      <th>10363</th>\n",
       "      <td>Hillary Clinton said that it is O.K. to ban Mu...</td>\n",
       "      <td>1/2/2016 13:23</td>\n",
       "      <td>7832.0</td>\n",
       "      <td>14673.0</td>\n",
       "      <td>False</td>\n",
       "      <td>6.832770e+17</td>\n",
       "      <td>1</td>\n",
       "    </tr>\n",
       "    <tr>\n",
       "      <th>10364</th>\n",
       "      <td>.@JebBush is a low energy \"stiff\" who should f...</td>\n",
       "      <td>1/2/2016 12:17</td>\n",
       "      <td>1749.0</td>\n",
       "      <td>5458.0</td>\n",
       "      <td>False</td>\n",
       "      <td>6.832610e+17</td>\n",
       "      <td>-1</td>\n",
       "    </tr>\n",
       "    <tr>\n",
       "      <th>10365</th>\n",
       "      <td>.@JebBush is a sad case. A total embarrassment...</td>\n",
       "      <td>1/2/2016 12:10</td>\n",
       "      <td>2124.0</td>\n",
       "      <td>5802.0</td>\n",
       "      <td>False</td>\n",
       "      <td>6.832590e+17</td>\n",
       "      <td>0</td>\n",
       "    </tr>\n",
       "  </tbody>\n",
       "</table>\n",
       "<p>10366 rows × 7 columns</p>\n",
       "</div>"
      ],
      "text/plain": [
       "                                                    text        created_at  \\\n",
       "0      President and Mrs. Obama built/has a ten foot ...  12/30/2018 21:59   \n",
       "1      Great work by my Administration over the holid...  12/30/2018 16:56   \n",
       "2      Veterans on President Trumps handling of Bord...  12/30/2018 15:28   \n",
       "3      It turns out to be true now that the Departme...   12/30/2018 3:15   \n",
       "4      Absolutely nothing (on Russian Collusion). K...   12/30/2018 3:01   \n",
       "...                                                  ...               ...   \n",
       "10361  I hope Bill Clinton starts talking about women...    1/2/2016 20:04   \n",
       "10362  Hillary Clinton doesn't have the strength or s...    1/2/2016 20:00   \n",
       "10363  Hillary Clinton said that it is O.K. to ban Mu...    1/2/2016 13:23   \n",
       "10364  .@JebBush is a low energy \"stiff\" who should f...    1/2/2016 12:17   \n",
       "10365  .@JebBush is a sad case. A total embarrassment...    1/2/2016 12:10   \n",
       "\n",
       "       retweet_count  favorite_count is_retweet        id_str  Market Movement  \n",
       "0            61730.0        233299.0      False  1.079500e+18               -1  \n",
       "1            32041.0        130761.0      False  1.079420e+18                0  \n",
       "2            25749.0        123564.0      False  1.079400e+18               -1  \n",
       "3            44877.0        150051.0      False  1.079210e+18                1  \n",
       "4            30777.0        118155.0      False  1.079210e+18               -1  \n",
       "...              ...             ...        ...           ...              ...  \n",
       "10361         3609.0          8017.0      False  6.833780e+17                1  \n",
       "10362         2238.0          6568.0      False  6.833770e+17               -1  \n",
       "10363         7832.0         14673.0      False  6.832770e+17                1  \n",
       "10364         1749.0          5458.0      False  6.832610e+17               -1  \n",
       "10365         2124.0          5802.0      False  6.832590e+17                0  \n",
       "\n",
       "[10366 rows x 7 columns]"
      ]
     },
     "execution_count": 3,
     "metadata": {},
     "output_type": "execute_result"
    }
   ],
   "source": [
    "import random\n",
    "market_movement = []\n",
    "for i in range(0, len(df.index)):\n",
    "    rand = random.randint(-1, 1)\n",
    "    market_movement.append(rand)\n",
    "\n",
    "df[\"Market Movement\"] = market_movement\n",
    "df"
   ]
  },
  {
   "cell_type": "code",
   "execution_count": 4,
   "metadata": {},
   "outputs": [],
   "source": [
    "target = df[\"Market Movement\"]\n",
    "target_names = [\"Positive\", \"No Effect\", \"Negative\"]"
   ]
  },
  {
   "cell_type": "code",
   "execution_count": 5,
   "metadata": {},
   "outputs": [
    {
     "data": {
      "text/html": [
       "<div>\n",
       "<style scoped>\n",
       "    .dataframe tbody tr th:only-of-type {\n",
       "        vertical-align: middle;\n",
       "    }\n",
       "\n",
       "    .dataframe tbody tr th {\n",
       "        vertical-align: top;\n",
       "    }\n",
       "\n",
       "    .dataframe thead th {\n",
       "        text-align: right;\n",
       "    }\n",
       "</style>\n",
       "<table border=\"1\" class=\"dataframe\">\n",
       "  <thead>\n",
       "    <tr style=\"text-align: right;\">\n",
       "      <th></th>\n",
       "      <th>text</th>\n",
       "      <th>created_at</th>\n",
       "      <th>retweet_count</th>\n",
       "      <th>favorite_count</th>\n",
       "      <th>is_retweet</th>\n",
       "      <th>id_str</th>\n",
       "    </tr>\n",
       "  </thead>\n",
       "  <tbody>\n",
       "    <tr>\n",
       "      <th>0</th>\n",
       "      <td>President and Mrs. Obama built/has a ten foot ...</td>\n",
       "      <td>12/30/2018 21:59</td>\n",
       "      <td>61730.0</td>\n",
       "      <td>233299.0</td>\n",
       "      <td>False</td>\n",
       "      <td>1.079500e+18</td>\n",
       "    </tr>\n",
       "    <tr>\n",
       "      <th>1</th>\n",
       "      <td>Great work by my Administration over the holid...</td>\n",
       "      <td>12/30/2018 16:56</td>\n",
       "      <td>32041.0</td>\n",
       "      <td>130761.0</td>\n",
       "      <td>False</td>\n",
       "      <td>1.079420e+18</td>\n",
       "    </tr>\n",
       "    <tr>\n",
       "      <th>2</th>\n",
       "      <td>Veterans on President Trumps handling of Bord...</td>\n",
       "      <td>12/30/2018 15:28</td>\n",
       "      <td>25749.0</td>\n",
       "      <td>123564.0</td>\n",
       "      <td>False</td>\n",
       "      <td>1.079400e+18</td>\n",
       "    </tr>\n",
       "    <tr>\n",
       "      <th>3</th>\n",
       "      <td>It turns out to be true now that the Departme...</td>\n",
       "      <td>12/30/2018 3:15</td>\n",
       "      <td>44877.0</td>\n",
       "      <td>150051.0</td>\n",
       "      <td>False</td>\n",
       "      <td>1.079210e+18</td>\n",
       "    </tr>\n",
       "    <tr>\n",
       "      <th>4</th>\n",
       "      <td>Absolutely nothing (on Russian Collusion). K...</td>\n",
       "      <td>12/30/2018 3:01</td>\n",
       "      <td>30777.0</td>\n",
       "      <td>118155.0</td>\n",
       "      <td>False</td>\n",
       "      <td>1.079210e+18</td>\n",
       "    </tr>\n",
       "  </tbody>\n",
       "</table>\n",
       "</div>"
      ],
      "text/plain": [
       "                                                text        created_at  \\\n",
       "0  President and Mrs. Obama built/has a ten foot ...  12/30/2018 21:59   \n",
       "1  Great work by my Administration over the holid...  12/30/2018 16:56   \n",
       "2  Veterans on President Trumps handling of Bord...  12/30/2018 15:28   \n",
       "3  It turns out to be true now that the Departme...   12/30/2018 3:15   \n",
       "4  Absolutely nothing (on Russian Collusion). K...   12/30/2018 3:01   \n",
       "\n",
       "   retweet_count  favorite_count is_retweet        id_str  \n",
       "0        61730.0        233299.0      False  1.079500e+18  \n",
       "1        32041.0        130761.0      False  1.079420e+18  \n",
       "2        25749.0        123564.0      False  1.079400e+18  \n",
       "3        44877.0        150051.0      False  1.079210e+18  \n",
       "4        30777.0        118155.0      False  1.079210e+18  "
      ]
     },
     "execution_count": 5,
     "metadata": {},
     "output_type": "execute_result"
    }
   ],
   "source": [
    "data = df.drop(\"Market Movement\", axis=1)\n",
    "feature_names = data.columns\n",
    "data.head()"
   ]
  },
  {
   "cell_type": "code",
   "execution_count": 6,
   "metadata": {},
   "outputs": [],
   "source": [
    "# tokenize, then remove stopwords, ngrams, sentiment analysis feature selection\n",
    "#either truncate or append to vector"
   ]
  },
  {
   "cell_type": "code",
   "execution_count": 7,
   "metadata": {},
   "outputs": [
    {
     "name": "stdout",
     "output_type": "stream",
     "text": [
      "(10366, 200)\n",
      "[[-0.10783277  0.          0.         ...  0.          0.\n",
      "   0.10783277]\n",
      " [ 0.          0.09534626  0.         ...  0.          0.\n",
      "   0.        ]\n",
      " [ 0.         -0.12803688  0.         ...  0.          0.\n",
      "   0.12803688]\n",
      " ...\n",
      " [ 0.          0.          0.11785113 ...  0.          0.\n",
      "   0.        ]\n",
      " [ 0.11952286  0.         -0.11952286 ... -0.11952286  0.\n",
      "   0.11952286]\n",
      " [ 0.11704115  0.          0.         ...  0.          0.\n",
      "   0.        ]]\n"
     ]
    }
   ],
   "source": [
    "from sklearn.feature_extraction.text import HashingVectorizer\n",
    "# list of text documents\n",
    "text = data[\"text\"]\n",
    "# create the transform\n",
    "vectorizer = HashingVectorizer(n_features=200, ngram_range=(1, 3))\n",
    "# encode document\n",
    "vector = vectorizer.transform(text)\n",
    "# summarize encoded vector\n",
    "print(vector.shape)\n",
    "print(vector.toarray())"
   ]
  },
  {
   "cell_type": "code",
   "execution_count": 8,
   "metadata": {},
   "outputs": [
    {
     "data": {
      "text/plain": [
       "<10366x200 sparse matrix of type '<class 'numpy.float64'>'\n",
       "\twith 547204 stored elements in Compressed Sparse Row format>"
      ]
     },
     "execution_count": 8,
     "metadata": {},
     "output_type": "execute_result"
    }
   ],
   "source": [
    "vector"
   ]
  },
  {
   "cell_type": "code",
   "execution_count": 9,
   "metadata": {},
   "outputs": [],
   "source": [
    "from sklearn.model_selection import train_test_split\n",
    "X_train, X_test, y_train, y_test = train_test_split(vector.toarray(), target, random_state=42)\n",
    "\n"
   ]
  },
  {
   "cell_type": "code",
   "execution_count": 10,
   "metadata": {},
   "outputs": [
    {
     "data": {
      "text/plain": [
       "SVC(C=1.0, break_ties=False, cache_size=200, class_weight=None, coef0=0.0,\n",
       "    decision_function_shape='ovr', degree=3, gamma='scale', kernel='linear',\n",
       "    max_iter=-1, probability=False, random_state=None, shrinking=True,\n",
       "    tol=0.001, verbose=False)"
      ]
     },
     "execution_count": 10,
     "metadata": {},
     "output_type": "execute_result"
    }
   ],
   "source": [
    "from sklearn.svm import SVC \n",
    "model = SVC(kernel='linear')\n",
    "model.fit(X_train, y_train)"
   ]
  },
  {
   "cell_type": "code",
   "execution_count": 11,
   "metadata": {},
   "outputs": [
    {
     "name": "stdout",
     "output_type": "stream",
     "text": [
      "Test Acc: 0.3302\n"
     ]
    }
   ],
   "source": [
    "print('Test Acc: %.4f' % model.score(X_test, y_test))"
   ]
  },
  {
   "cell_type": "code",
   "execution_count": 42,
   "metadata": {},
   "outputs": [
    {
     "name": "stdout",
     "output_type": "stream",
     "text": [
      "              precision    recall  f1-score   support\n",
      "\n",
      "    Positive       0.25      0.46      0.32        13\n",
      "   No Effect       0.35      0.33      0.34        24\n",
      "    Negative       0.33      0.08      0.12        13\n",
      "\n",
      "    accuracy                           0.30        50\n",
      "   macro avg       0.31      0.29      0.26        50\n",
      "weighted avg       0.32      0.30      0.28        50\n",
      "\n"
     ]
    }
   ],
   "source": [
    "# Calculate classification report\n",
    "from sklearn.metrics import classification_report\n",
    "predictions = model.predict(X_test)\n",
    "print(classification_report(y_test, predictions,\n",
    "                            target_names=target_names))"
   ]
  },
  {
   "cell_type": "code",
   "execution_count": 47,
   "metadata": {},
   "outputs": [],
   "source": [
    "target = data[\"RTs\"]\n",
    "target_names = [\"Positive\", \"No Effect\", \"Negative\"]"
   ]
  },
  {
   "cell_type": "code",
   "execution_count": 48,
   "metadata": {},
   "outputs": [],
   "source": [
    "from sklearn.model_selection import train_test_split\n",
    "X_train, X_test, y_train, y_test = train_test_split(vector.toarray(), target, random_state=42)"
   ]
  },
  {
   "cell_type": "code",
   "execution_count": 49,
   "metadata": {},
   "outputs": [
    {
     "data": {
      "text/plain": [
       "SVC(C=1.0, break_ties=False, cache_size=200, class_weight=None, coef0=0.0,\n",
       "    decision_function_shape='ovr', degree=3, gamma='scale', kernel='linear',\n",
       "    max_iter=-1, probability=False, random_state=None, shrinking=True,\n",
       "    tol=0.001, verbose=False)"
      ]
     },
     "execution_count": 49,
     "metadata": {},
     "output_type": "execute_result"
    }
   ],
   "source": [
    "model = SVC(kernel='linear')\n",
    "model.fit(X_train, y_train)"
   ]
  },
  {
   "cell_type": "code",
   "execution_count": 50,
   "metadata": {},
   "outputs": [
    {
     "name": "stdout",
     "output_type": "stream",
     "text": [
      "Test Acc: 0.0200\n"
     ]
    }
   ],
   "source": [
    "print('Test Acc: %.4f' % model.score(X_test, y_test))"
   ]
  },
  {
   "cell_type": "code",
   "execution_count": null,
   "metadata": {},
   "outputs": [],
   "source": []
  }
 ],
 "metadata": {
  "kernelspec": {
   "display_name": "Python 3",
   "language": "python",
   "name": "python3"
  },
  "language_info": {
   "codemirror_mode": {
    "name": "ipython",
    "version": 3
   },
   "file_extension": ".py",
   "mimetype": "text/x-python",
   "name": "python",
   "nbconvert_exporter": "python",
   "pygments_lexer": "ipython3",
   "version": "3.7.4"
  }
 },
 "nbformat": 4,
 "nbformat_minor": 2
}
