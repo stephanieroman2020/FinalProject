{
 "cells": [
  {
   "cell_type": "code",
   "execution_count": null,
   "metadata": {},
   "outputs": [],
   "source": [
    "#Importing dependencies\n",
    "import tweepy           \n",
    "import pandas as pd    \n",
    "import numpy as np\n",
    "from IPython.display import display\n",
    "import matplotlib.pyplot as plt\n",
    "import seaborn as sns\n",
    "%matplotlib inline"
   ]
  },
  {
   "cell_type": "code",
   "execution_count": 3,
   "metadata": {},
   "outputs": [],
   "source": [
    "#Seperate folder with API tokens\n",
    "from credentials import *"
   ]
  },
  {
   "cell_type": "code",
   "execution_count": 4,
   "metadata": {},
   "outputs": [],
   "source": [
    "def twitter_setup():\n",
    "    \n",
    "    auth = tweepy.OAuthHandler(consumer_key, consumer_secret)\n",
    "    auth.set_access_token(access_token, access_secret)\n",
    "\n",
    "    api = tweepy.API(auth)\n",
    "    return api"
   ]
  },
  {
   "cell_type": "code",
   "execution_count": 5,
   "metadata": {},
   "outputs": [
    {
     "name": "stdout",
     "output_type": "stream",
     "text": [
      "Number of tweets extracted: 200.\n",
      "\n",
      "5 recent tweets:\n",
      "\n",
      "Absentee Ballots are a great way to vote for the many senior citizens, military, and others who can’t get to the po… https://t.co/AiTPROOsHu\n",
      "\n",
      "This morning, 450,000 protective suits landed in Dallas, Texas. This was made possible because of the partnership o… https://t.co/24aXfmz6vG\n",
      "\n",
      "RT @WhiteHouse: To date, we've shipped out more than 8,000 ventilators, have an additional 10,000 ready to go, and 2,200 more will be avail…\n",
      "\n",
      "https://t.co/DKY3UPeyak\n",
      "\n",
      "RT @WhiteHouse: LIVE: Press Briefing with Coronavirus Task Force https://t.co/jgENbi406M\n",
      "\n",
      "Wishing a HAPPY PASSOVER to those celebrating in the United States, Israel, and around the world! https://t.co/83odnD9yvh\n",
      "\n",
      "White House news conference at 5:30 P.M. Eastern. Thank you!\n",
      "\n",
      "Extraordinary times require even closer cooperation between friends. Thank you India and the Indian people for the… https://t.co/aDMD5VmPa8\n",
      "\n",
      "Can’t see AOC plus 3 supporting Sleepy Joe!\n",
      "\n",
      "Wow, Bernie is unwilling to give up his delegates, and wants more of them! What’s that all about?\n",
      "\n",
      "Bernie Sanders is OUT! Thank you to Elizabeth Warren. If not for her, Bernie would have won almost every state on S… https://t.co/0GM0NuY2n8\n",
      "\n",
      "FLATTENING OF THE CURVE!\n",
      "\n",
      "Once we OPEN UP OUR GREAT COUNTRY, and it will be sooner rather than later, the horror of the Invisible Enemy, exce… https://t.co/twqNfJBWkM\n",
      "\n",
      "...the Fake News Media into not covering them, but that effort failed because the ratings are through the roof acco… https://t.co/SPIB1hCa8r\n",
      "\n",
      "The Radical Left Democrats have gone absolutely crazy that I am doing daily Presidential News Conferences. They act… https://t.co/9Lbv3JWTsr\n",
      "\n",
      "Will be immediately sending 100 Ventilators to Colorado at the request of Senator Gardner! https://t.co/Nj4EPxfZl6\n",
      "\n",
      "RT @AFP: Voicing joy and excitement from behind face masks, tens of thousands of people flee Wuhan after a 76-day travel ban is lifted on t…\n",
      "\n",
      "RT @AP: The last restrictions on movement have been lifted in the central Chinese city where the coronavirus pandemic began. People are goi…\n",
      "\n",
      "Republicans should fight very hard when it comes to state wide mail-in voting. Democrats are clamoring for it. Trem… https://t.co/3ui9R3mQ7B\n",
      "\n",
      "“The number of New Yorkers admitted to hospitals has dropped.” @ainsleyearhardt @foxandfriends  Good news!\n",
      "\n",
      "https://t.co/nyajxA52Fs\n",
      "\n",
      "https://t.co/fiorkR8wtn\n",
      "\n",
      "RT @WhiteHouse: LIVE: Press Briefing with Coronavirus Task Force https://t.co/kszgnReztL\n",
      "\n",
      "https://t.co/2VsBBtXpfg\n",
      "\n",
      "White House news conference at 5:30 P.M. Eastern. Thank you!\n",
      "\n",
      "https://t.co/GIzwKSbuuS\n",
      "\n",
      "Just had a conf call w/ major lenders discussing our Great Small Businesses &amp; the #PPPloan. I ask every company, bi… https://t.co/sPAAzbiDj9\n",
      "\n",
      "Wisconsin, get out and vote NOW for Justice Daniel Kelly. Protect your 2nd Amendment!\n",
      "\n",
      "Why didn’t the I.G., who spent 8 years with the Obama Administration (Did she Report on the failed H1N1 Swine Flu d… https://t.co/t0hdxZyFP5\n",
      "\n",
      "The W.H.O. really blew it. For some reason, funded largely by the United States, yet very China centric. We will be… https://t.co/3C2NWDafia\n",
      "\n",
      "RT @AmberSmithUSA: President Trump 'to get involved' in Thomas Modly-Capt. Brett Crozier dispute  https://t.co/k0yWHeIjvc\n",
      "\n",
      "Vote today, Tuesday, for highly respected Republican, Justice Daniel Kelly. Tough on Crime, loves your Military, Ve… https://t.co/mcpxQG0Sav\n",
      "\n",
      "RT @realDonaldTrump: Congratulations to State Representative Karen Whitsett of Michigan. So glad you are getting better! https://t.co/v6z46…\n",
      "\n",
      "Great job being done by Dr. Nicole Saphier on @FoxNews!\n",
      "\n",
      "https://t.co/oUFOV2HQLo\n",
      "\n",
      "https://t.co/JIkrIczC8o\n",
      "\n",
      "https://t.co/e3wBhSwDx7\n",
      "\n",
      "The Wisconsin Supreme Court ruled that tomorrow’s election will proceed as scheduled. VOTE for Justice Daniel Kelly… https://t.co/7tmoQ0CEwq\n",
      "\n",
      "RT @WhiteHouse: LIVE: Press Briefing with Coronavirus Task Force https://t.co/Noma8NXmag\n",
      "\n",
      "White House news conference at 5:45 P.M. Eastern. Thank you!\n",
      "\n",
      "Congratulations to State Representative Karen Whitsett of Michigan. So glad you are getting better! https://t.co/v6z46rUDtg\n",
      "\n",
      "https://t.co/GIzwKSbuuS\n",
      "\n",
      "Joe Biden wanted the date for the Democrat National Convention moved to a later time period. Now he wants a “Virtua… https://t.co/8ILFkcZXhh\n",
      "\n",
      "RT @realDonaldTrump: Advertising in the Failing New York Times is WAY down. Washington Post is not much better. I can’t say whether this is…\n",
      "\n",
      "RT @WhiteHouse: President @realDonaldTrump expressed America's well wishes to Prime Minister Boris Johnson for a speedy recovery. https://t…\n",
      "\n",
      "RT @KatrinaPierson: Starting TONIGHT! \n",
      "\n",
      "@TeamTrump #WarRoomWeekly\n",
      "\n",
      "Following the @realDonaldTrump Covid-19 update!! \n",
      "\n",
      "#KAG2020 🇺🇸\n",
      "\n",
      "RT @DonaldJTrumpJr: Take a look back and RT what the liberal media and Joe Biden said about President Trump's aggressive, early response to…\n",
      "\n",
      "Advertising in the Failing New York Times is WAY down. Washington Post is not much better. I can’t say whether this… https://t.co/938oilwr3z\n",
      "\n",
      "RT @yaneerbaryam: BREAKING: Coronavirus Outbreak. Good news on multiple fronts\n",
      "\n",
      "US today now at 23,373, yesterday at this time was 30,571.…\n",
      "\n",
      "RT @mattgaetz: So dumbfounded that the Democrats would rather revert to subpoenas than find solutions to the unprecedented crisis we are wo…\n",
      "\n",
      "RT @RepRatcliffe: I don't know anyone in the last three years who has done more to help Vladimir Putin and Russia with their efforts to sow…\n",
      "\n",
      "LIGHT AT THE END OF THE TUNNEL!\n",
      "\n",
      "USA STRONG!\n",
      "\n",
      "Thank you Gayle. I only wish the public could fully understand how corrupt &amp; dishonest so much of our Lamestream Me… https://t.co/tNgx4h7pda\n",
      "\n",
      "For humanitarian reasons, the passengers from the two CoronaVirus stricken cruise ships have been given medical tre… https://t.co/SO7dBO2aEn\n",
      "\n",
      ".@gayletrotter  “To this day the establishment media have not admitted that they were wrong and the President was right.” @FoxNews\n",
      "\n",
      "https://t.co/j8fKN49P1o\n",
      "\n",
      "https://t.co/hUVUJb9zSA\n",
      "\n",
      "White House news conference at 6:45 P.M. Eastern. Thank you!\n",
      "\n",
      "We are learning much about the Invisible Enemy. It is tough and smart, but we are tougher and smarter!\n",
      "\n",
      "Thank you Gayle! https://t.co/DN4DDoHPtu\n",
      "\n",
      "RT @MediaBuzzFNC: .@gayletrotter said \"President Trump disrupts the media narrative so CNN and MSNBC don't want to cover it live and straig…\n",
      "\n",
      "RT @MediaBuzzFNC: .@gayletrotter said \"the establishment media have not admitted that they were wrong and the president was right\" for bann…\n",
      "\n",
      "I agree! https://t.co/8QO4QquG4A\n",
      "\n",
      "A very biased “journalist”. https://t.co/4jN4LW63FV\n",
      "\n",
      "A great &amp; wonderful woman! https://t.co/6ivEcwk12Z\n",
      "\n",
      "RT @ScottGottliebMD: Parts of Florida, including Miami, are becoming a major epicenter of #COVID19 spread; with cases doubling every 3.5 to…\n",
      "\n",
      "RT @ScottGottliebMD: Encouraging signs #COVID19 spread may be slowing in many cities, especially northeast. Mitigation is working. New case…\n",
      "\n",
      "Corrected Fake News! https://t.co/1LISKyeVNg\n",
      "\n",
      "RT @AGHamilton29: Absolutely sickening that the Washington Post published this puff piece glorifying a vicious anti-Semite. \n",
      "\n",
      "Not only did…\n",
      "\n",
      "RT @BorisJohnson: Thank you to everyone who is saving lives by staying at home this weekend. \n",
      "\n",
      "I know it's tough, but if we all work togeth…\n",
      "\n",
      "RT @realDonaldTrump: Palm Sunday is the beginning of a Holy week for many people of Faith and a great day to lift our voices in Prayer. I w…\n",
      "\n",
      "RT @TimBurt: Psalm 33:18-20 \"But the LORD watches over those who fear him, those who rely on his unfailing love. \n",
      " He rescues them from dea…\n",
      "\n",
      "RT @PastorJohnHagee: Where do you go when the storms of life are greater than what you can endure and when the winds and the waves are crus…\n",
      "\n",
      "RT @SandiHKaye: “And the multitudes that went before, and that followed, cried, saying, Hosanna to the Son of David: Blessed is he that com…\n",
      "\n",
      "RT @DanScavino: https://t.co/teskRQ78l0\n",
      "\n",
      "RT @DanScavino: Meet NYC Landlord, #SuperMario! https://t.co/udABPRV73A\n",
      "\n",
      "RT @Scavino45: https://t.co/WXqiB5br4Z\n",
      "\n",
      "RT @RealMattCouch: BREAKING: Joe Rogan says \"I'd vote for Trump over Biden. \" \n",
      "\n",
      "Liberal heads explode in 3...2...1...\n",
      "\n",
      "RT @RealSaavedra: Joe Rogan on the 2020 election: “This is the real issue with the Democratic Party. They’ve essentially made us all morons…\n",
      "\n",
      "RT @realDailyWire: Joe Rogan On 2020 Election: I Would ‘Rather Vote For Trump’ Over Biden, Biden Can’t Handle Anything https://t.co/9AOG9OF…\n",
      "\n",
      "RT @OANN: RNC Chairwoman Praises President Trump’s Virus Response\n",
      "https://t.co/77LvKHv5QA #OANN https://t.co/kIHqeO1mZk\n",
      "\n",
      "RT @OANN: Joe Rogan: I’d Rather Vote For President Trump Than Biden\n",
      "https://t.co/p9iLlPNTZo #OANN https://t.co/fW3I73BcXg\n",
      "\n",
      "RT @OANN: Santilli: ‘I credit my life being saved’ to President Trump and COVID-19... https://t.co/yuBWVMhhLb #OANN\n",
      "\n",
      "RT @OANN: Hydroxychloroquine proving an effective treatment for coronavirus patien... https://t.co/L3imNmv1ua #OANN @PearsonSharp\n",
      "\n",
      "RT @TeamTrump: Throughout the #Coronavirus Crisis, most of the media is doing what they do best: Looking bad.\n",
      "\n",
      "President @realDonaldTrump i…\n",
      "\n",
      "RT @GOPChairwoman: “Every decision that we’re making is made to save lives. It’s really our sole consideration.” -- @realDonaldTrump https:…\n",
      "\n",
      "RT @IngrahamAngle: “We’ve got to get this country open again,” @realDonaldTrump said in response to more questions about need for more aggr…\n",
      "\n",
      "RT @TeamTrump: It took TWO MONTHS for Joe Biden to finally admit that President @realDonaldTrump's decision to restrict travel from China w…\n",
      "\n",
      "He wants to raise taxes all over our Country! https://t.co/8RgHO9y8p6\n",
      "\n",
      "RT @KatrinaPierson: Thread\n",
      "\n",
      "RT @SebGorka: Didn’t @realDonaldTrump say something about that?\n",
      "\n",
      "Disgraceful! https://t.co/Z8g6UWi6dB\n",
      "\n",
      "RT @ByronYork: From @USATODAY: 'Fact check: Did the Obama administration deplete the federal stockpile of N95 masks?' Verdict: 'True.' http…\n",
      "\n",
      "RT @KatrinaPierson: President @realDonaldTrump knows more than anyone that small business are the backbone of our economy. \n",
      "\n",
      "TODAY is the f…\n",
      "\n",
      "Palm Sunday is the beginning of a Holy week for many people of Faith and a great day to lift our voices in Prayer.… https://t.co/UUhtbRYnks\n",
      "\n",
      "RT @WhiteHouse: We will use every possible resource to end this war and open our country again. https://t.co/XeW0z7FsPf\n",
      "\n",
      "RT @WhiteHouse: THANK YOU to our doctors, nurses, medical professionals, and the food supply workers who are feeding our Nation. 🇺🇸 https:/…\n",
      "\n",
      "RT @WhiteHouse: LIVE: Press Briefing with Coronavirus Task Force https://t.co/1hZPOGtyl9\n",
      "\n",
      "....We will get through this together, and bats will be swinging before you know it. In the meantime, take care of… https://t.co/OV9QIRxSoi\n",
      "\n"
     ]
    }
   ],
   "source": [
    "extractor = twitter_setup()\n",
    "\n",
    "tweets = extractor.user_timeline(screen_name=\"realDonaldTrump\", count=500)\n",
    "print(\"Number of tweets extracted: {}.\\n\".format(len(tweets)))\n",
    "\n",
    "print(\"5 recent tweets:\\n\")\n",
    "for tweet in tweets[:100]:\n",
    "    print(tweet.text)\n",
    "    print()"
   ]
  },
  {
   "cell_type": "code",
   "execution_count": 6,
   "metadata": {},
   "outputs": [
    {
     "data": {
      "text/html": [
       "<div>\n",
       "<style scoped>\n",
       "    .dataframe tbody tr th:only-of-type {\n",
       "        vertical-align: middle;\n",
       "    }\n",
       "\n",
       "    .dataframe tbody tr th {\n",
       "        vertical-align: top;\n",
       "    }\n",
       "\n",
       "    .dataframe thead th {\n",
       "        text-align: right;\n",
       "    }\n",
       "</style>\n",
       "<table border=\"1\" class=\"dataframe\">\n",
       "  <thead>\n",
       "    <tr style=\"text-align: right;\">\n",
       "      <th></th>\n",
       "      <th>Tweets</th>\n",
       "    </tr>\n",
       "  </thead>\n",
       "  <tbody>\n",
       "    <tr>\n",
       "      <th>0</th>\n",
       "      <td>Absentee Ballots are a great way to vote for t...</td>\n",
       "    </tr>\n",
       "    <tr>\n",
       "      <th>1</th>\n",
       "      <td>This morning, 450,000 protective suits landed ...</td>\n",
       "    </tr>\n",
       "    <tr>\n",
       "      <th>2</th>\n",
       "      <td>RT @WhiteHouse: To date, we've shipped out mor...</td>\n",
       "    </tr>\n",
       "    <tr>\n",
       "      <th>3</th>\n",
       "      <td>https://t.co/DKY3UPeyak</td>\n",
       "    </tr>\n",
       "    <tr>\n",
       "      <th>4</th>\n",
       "      <td>RT @WhiteHouse: LIVE: Press Briefing with Coro...</td>\n",
       "    </tr>\n",
       "    <tr>\n",
       "      <th>5</th>\n",
       "      <td>Wishing a HAPPY PASSOVER to those celebrating ...</td>\n",
       "    </tr>\n",
       "    <tr>\n",
       "      <th>6</th>\n",
       "      <td>White House news conference at 5:30 P.M. Easte...</td>\n",
       "    </tr>\n",
       "    <tr>\n",
       "      <th>7</th>\n",
       "      <td>Extraordinary times require even closer cooper...</td>\n",
       "    </tr>\n",
       "    <tr>\n",
       "      <th>8</th>\n",
       "      <td>Can’t see AOC plus 3 supporting Sleepy Joe!</td>\n",
       "    </tr>\n",
       "    <tr>\n",
       "      <th>9</th>\n",
       "      <td>Wow, Bernie is unwilling to give up his delega...</td>\n",
       "    </tr>\n",
       "  </tbody>\n",
       "</table>\n",
       "</div>"
      ],
      "text/plain": [
       "                                              Tweets\n",
       "0  Absentee Ballots are a great way to vote for t...\n",
       "1  This morning, 450,000 protective suits landed ...\n",
       "2  RT @WhiteHouse: To date, we've shipped out mor...\n",
       "3                            https://t.co/DKY3UPeyak\n",
       "4  RT @WhiteHouse: LIVE: Press Briefing with Coro...\n",
       "5  Wishing a HAPPY PASSOVER to those celebrating ...\n",
       "6  White House news conference at 5:30 P.M. Easte...\n",
       "7  Extraordinary times require even closer cooper...\n",
       "8        Can’t see AOC plus 3 supporting Sleepy Joe!\n",
       "9  Wow, Bernie is unwilling to give up his delega..."
      ]
     },
     "metadata": {},
     "output_type": "display_data"
    }
   ],
   "source": [
    "data = pd.DataFrame(data=[tweet.text for tweet in tweets], columns=['Tweets'])\n",
    "display(data.head(10))"
   ]
  },
  {
   "cell_type": "code",
   "execution_count": 7,
   "metadata": {},
   "outputs": [
    {
     "name": "stdout",
     "output_type": "stream",
     "text": [
      "['__class__', '__delattr__', '__dict__', '__dir__', '__doc__', '__eq__', '__format__', '__ge__', '__getattribute__', '__getstate__', '__gt__', '__hash__', '__init__', '__init_subclass__', '__le__', '__lt__', '__module__', '__ne__', '__new__', '__reduce__', '__reduce_ex__', '__repr__', '__setattr__', '__sizeof__', '__str__', '__subclasshook__', '__weakref__', '_api', '_json', 'author', 'contributors', 'coordinates', 'created_at', 'destroy', 'entities', 'favorite', 'favorite_count', 'favorited', 'geo', 'id', 'id_str', 'in_reply_to_screen_name', 'in_reply_to_status_id', 'in_reply_to_status_id_str', 'in_reply_to_user_id', 'in_reply_to_user_id_str', 'is_quote_status', 'lang', 'parse', 'parse_list', 'place', 'retweet', 'retweet_count', 'retweeted', 'retweets', 'source', 'source_url', 'text', 'truncated', 'user']\n"
     ]
    }
   ],
   "source": [
    "print(dir(tweets[0]))"
   ]
  },
  {
   "cell_type": "code",
   "execution_count": 8,
   "metadata": {},
   "outputs": [
    {
     "name": "stdout",
     "output_type": "stream",
     "text": [
      "1248031484532928514\n",
      "2020-04-08 23:34:27\n",
      "Twitter for iPhone\n",
      "68803\n",
      "19144\n",
      "None\n",
      "None\n",
      "{'hashtags': [], 'symbols': [], 'user_mentions': [], 'urls': [{'url': 'https://t.co/AiTPROOsHu', 'expanded_url': 'https://twitter.com/i/web/status/1248031484532928514', 'display_url': 'twitter.com/i/web/status/1…', 'indices': [117, 140]}]}\n"
     ]
    }
   ],
   "source": [
    "print(tweets[0].id)\n",
    "print(tweets[0].created_at)\n",
    "print(tweets[0].source)\n",
    "print(tweets[0].favorite_count)\n",
    "print(tweets[0].retweet_count)\n",
    "print(tweets[0].geo)\n",
    "print(tweets[0].coordinates)\n",
    "print(tweets[0].entities)"
   ]
  },
  {
   "cell_type": "code",
   "execution_count": 9,
   "metadata": {},
   "outputs": [],
   "source": [
    "data['len']  = np.array([len(tweet.text) for tweet in tweets])\n",
    "data['ID']   = np.array([tweet.id for tweet in tweets])\n",
    "data['Date'] = np.array([tweet.created_at for tweet in tweets])\n",
    "data['Source'] = np.array([tweet.source for tweet in tweets])\n",
    "data['Likes']  = np.array([tweet.favorite_count for tweet in tweets])\n",
    "data['RTs']    = np.array([tweet.retweet_count for tweet in tweets])"
   ]
  },
  {
   "cell_type": "code",
   "execution_count": 10,
   "metadata": {},
   "outputs": [
    {
     "data": {
      "text/html": [
       "<div>\n",
       "<style scoped>\n",
       "    .dataframe tbody tr th:only-of-type {\n",
       "        vertical-align: middle;\n",
       "    }\n",
       "\n",
       "    .dataframe tbody tr th {\n",
       "        vertical-align: top;\n",
       "    }\n",
       "\n",
       "    .dataframe thead th {\n",
       "        text-align: right;\n",
       "    }\n",
       "</style>\n",
       "<table border=\"1\" class=\"dataframe\">\n",
       "  <thead>\n",
       "    <tr style=\"text-align: right;\">\n",
       "      <th></th>\n",
       "      <th>Tweets</th>\n",
       "      <th>len</th>\n",
       "      <th>ID</th>\n",
       "      <th>Date</th>\n",
       "      <th>Source</th>\n",
       "      <th>Likes</th>\n",
       "      <th>RTs</th>\n",
       "    </tr>\n",
       "  </thead>\n",
       "  <tbody>\n",
       "    <tr>\n",
       "      <th>0</th>\n",
       "      <td>Absentee Ballots are a great way to vote for t...</td>\n",
       "      <td>140</td>\n",
       "      <td>1248031484532928514</td>\n",
       "      <td>2020-04-08 23:34:27</td>\n",
       "      <td>Twitter for iPhone</td>\n",
       "      <td>68803</td>\n",
       "      <td>19144</td>\n",
       "    </tr>\n",
       "    <tr>\n",
       "      <th>1</th>\n",
       "      <td>This morning, 450,000 protective suits landed ...</td>\n",
       "      <td>140</td>\n",
       "      <td>1248026598860881921</td>\n",
       "      <td>2020-04-08 23:15:03</td>\n",
       "      <td>Twitter for iPhone</td>\n",
       "      <td>29928</td>\n",
       "      <td>7089</td>\n",
       "    </tr>\n",
       "    <tr>\n",
       "      <th>2</th>\n",
       "      <td>RT @WhiteHouse: To date, we've shipped out mor...</td>\n",
       "      <td>140</td>\n",
       "      <td>1248022702390235140</td>\n",
       "      <td>2020-04-08 22:59:34</td>\n",
       "      <td>Twitter for iPhone</td>\n",
       "      <td>0</td>\n",
       "      <td>4644</td>\n",
       "    </tr>\n",
       "    <tr>\n",
       "      <th>3</th>\n",
       "      <td>https://t.co/DKY3UPeyak</td>\n",
       "      <td>23</td>\n",
       "      <td>1248020003615457281</td>\n",
       "      <td>2020-04-08 22:48:50</td>\n",
       "      <td>Twitter for iPhone</td>\n",
       "      <td>27062</td>\n",
       "      <td>6749</td>\n",
       "    </tr>\n",
       "    <tr>\n",
       "      <th>4</th>\n",
       "      <td>RT @WhiteHouse: LIVE: Press Briefing with Coro...</td>\n",
       "      <td>88</td>\n",
       "      <td>1248004556434235393</td>\n",
       "      <td>2020-04-08 21:47:27</td>\n",
       "      <td>Twitter for iPhone</td>\n",
       "      <td>0</td>\n",
       "      <td>4649</td>\n",
       "    </tr>\n",
       "    <tr>\n",
       "      <th>5</th>\n",
       "      <td>Wishing a HAPPY PASSOVER to those celebrating ...</td>\n",
       "      <td>121</td>\n",
       "      <td>1247990240536678402</td>\n",
       "      <td>2020-04-08 20:50:34</td>\n",
       "      <td>Twitter for iPhone</td>\n",
       "      <td>64985</td>\n",
       "      <td>14678</td>\n",
       "    </tr>\n",
       "    <tr>\n",
       "      <th>6</th>\n",
       "      <td>White House news conference at 5:30 P.M. Easte...</td>\n",
       "      <td>60</td>\n",
       "      <td>1247986878307078150</td>\n",
       "      <td>2020-04-08 20:37:12</td>\n",
       "      <td>Twitter for iPhone</td>\n",
       "      <td>60589</td>\n",
       "      <td>11082</td>\n",
       "    </tr>\n",
       "    <tr>\n",
       "      <th>7</th>\n",
       "      <td>Extraordinary times require even closer cooper...</td>\n",
       "      <td>139</td>\n",
       "      <td>1247950299408498693</td>\n",
       "      <td>2020-04-08 18:11:51</td>\n",
       "      <td>Twitter for iPhone</td>\n",
       "      <td>215524</td>\n",
       "      <td>61908</td>\n",
       "    </tr>\n",
       "    <tr>\n",
       "      <th>8</th>\n",
       "      <td>Can’t see AOC plus 3 supporting Sleepy Joe!</td>\n",
       "      <td>43</td>\n",
       "      <td>1247920239045681159</td>\n",
       "      <td>2020-04-08 16:12:24</td>\n",
       "      <td>Twitter for iPhone</td>\n",
       "      <td>100586</td>\n",
       "      <td>17455</td>\n",
       "    </tr>\n",
       "    <tr>\n",
       "      <th>9</th>\n",
       "      <td>Wow, Bernie is unwilling to give up his delega...</td>\n",
       "      <td>97</td>\n",
       "      <td>1247919539809128451</td>\n",
       "      <td>2020-04-08 16:09:38</td>\n",
       "      <td>Twitter for iPhone</td>\n",
       "      <td>107950</td>\n",
       "      <td>20593</td>\n",
       "    </tr>\n",
       "  </tbody>\n",
       "</table>\n",
       "</div>"
      ],
      "text/plain": [
       "                                              Tweets  len  \\\n",
       "0  Absentee Ballots are a great way to vote for t...  140   \n",
       "1  This morning, 450,000 protective suits landed ...  140   \n",
       "2  RT @WhiteHouse: To date, we've shipped out mor...  140   \n",
       "3                            https://t.co/DKY3UPeyak   23   \n",
       "4  RT @WhiteHouse: LIVE: Press Briefing with Coro...   88   \n",
       "5  Wishing a HAPPY PASSOVER to those celebrating ...  121   \n",
       "6  White House news conference at 5:30 P.M. Easte...   60   \n",
       "7  Extraordinary times require even closer cooper...  139   \n",
       "8        Can’t see AOC plus 3 supporting Sleepy Joe!   43   \n",
       "9  Wow, Bernie is unwilling to give up his delega...   97   \n",
       "\n",
       "                    ID                Date              Source   Likes    RTs  \n",
       "0  1248031484532928514 2020-04-08 23:34:27  Twitter for iPhone   68803  19144  \n",
       "1  1248026598860881921 2020-04-08 23:15:03  Twitter for iPhone   29928   7089  \n",
       "2  1248022702390235140 2020-04-08 22:59:34  Twitter for iPhone       0   4644  \n",
       "3  1248020003615457281 2020-04-08 22:48:50  Twitter for iPhone   27062   6749  \n",
       "4  1248004556434235393 2020-04-08 21:47:27  Twitter for iPhone       0   4649  \n",
       "5  1247990240536678402 2020-04-08 20:50:34  Twitter for iPhone   64985  14678  \n",
       "6  1247986878307078150 2020-04-08 20:37:12  Twitter for iPhone   60589  11082  \n",
       "7  1247950299408498693 2020-04-08 18:11:51  Twitter for iPhone  215524  61908  \n",
       "8  1247920239045681159 2020-04-08 16:12:24  Twitter for iPhone  100586  17455  \n",
       "9  1247919539809128451 2020-04-08 16:09:38  Twitter for iPhone  107950  20593  "
      ]
     },
     "metadata": {},
     "output_type": "display_data"
    }
   ],
   "source": [
    "display(data.head(10))"
   ]
  },
  {
   "cell_type": "code",
   "execution_count": 11,
   "metadata": {},
   "outputs": [],
   "source": [
    "mean = np.mean(data['len'])"
   ]
  },
  {
   "cell_type": "code",
   "execution_count": 12,
   "metadata": {},
   "outputs": [
    {
     "name": "stdout",
     "output_type": "stream",
     "text": [
      "The lenght's average in tweets: 107.06\n"
     ]
    }
   ],
   "source": [
    "print(\"The lenght's average in tweets: {}\".format(mean))"
   ]
  },
  {
   "cell_type": "code",
   "execution_count": 13,
   "metadata": {},
   "outputs": [
    {
     "name": "stdout",
     "output_type": "stream",
     "text": [
      "The tweet with more likes is: \n",
      "The W.H.O. really blew it. For some reason, funded largely by the United States, yet very China centric. We will be… https://t.co/3C2NWDafia\n",
      "Number of likes: 445842\n",
      "140 characters.\n",
      "\n",
      "The tweet with more retweets is: \n",
      "RT @realDonaldTrump: THE UNITED STATES LOVES ITALY! https://t.co/DESUJ4QM41\n",
      "Number of retweets: 115704\n",
      "75 characters.\n",
      "\n"
     ]
    }
   ],
   "source": [
    "fav_max = np.max(data['Likes'])\n",
    "rt_max  = np.max(data['RTs'])\n",
    "\n",
    "fav = data[data.Likes == fav_max].index[0]\n",
    "rt  = data[data.RTs == rt_max].index[0]\n",
    "\n",
    "print(\"The tweet with more likes is: \\n{}\".format(data['Tweets'][fav]))\n",
    "print(\"Number of likes: {}\".format(fav_max))\n",
    "print(\"{} characters.\\n\".format(data['len'][fav]))\n",
    "\n",
    "print(\"The tweet with more retweets is: \\n{}\".format(data['Tweets'][rt]))\n",
    "print(\"Number of retweets: {}\".format(rt_max))\n",
    "print(\"{} characters.\\n\".format(data['len'][rt]))"
   ]
  },
  {
   "cell_type": "code",
   "execution_count": 14,
   "metadata": {},
   "outputs": [],
   "source": [
    "tlen = pd.Series(data=data['len'].values, index=data['Date'])\n",
    "tfav = pd.Series(data=data['Likes'].values, index=data['Date'])\n",
    "tret = pd.Series(data=data['RTs'].values, index=data['Date'])"
   ]
  },
  {
   "cell_type": "code",
   "execution_count": 15,
   "metadata": {},
   "outputs": [
    {
     "data": {
      "image/png": "[encoded data removed]",
      "text/plain": [
       "<Figure size 1152x288 with 1 Axes>"
      ]
     },
     "metadata": {
      "needs_background": "light"
     },
     "output_type": "display_data"
    }
   ],
   "source": [
    "tlen.plot(figsize=(16,4), color='r');"
   ]
  },
  {
   "cell_type": "code",
   "execution_count": 16,
   "metadata": {},
   "outputs": [
    {
     "data": {
      "image/png": "[encoded data removed]",
      "text/plain": [
       "<Figure size 1152x288 with 1 Axes>"
      ]
     },
     "metadata": {
      "needs_background": "light"
     },
     "output_type": "display_data"
    }
   ],
   "source": [
    "tfav.plot(figsize=(16,4), label=\"Likes\", legend=True)\n",
    "tret.plot(figsize=(16,4), label=\"Retweets\", legend=True);"
   ]
  },
  {
   "cell_type": "code",
   "execution_count": 19,
   "metadata": {},
   "outputs": [],
   "source": [
    "from textblob import TextBlob\n",
    "import re\n",
    "\n",
    "def clean_tweet(tweet):\n",
    "    '''\n",
    "    Utility function to clean the text in a tweet by removing \n",
    "    links and special characters using regex.\n",
    "    '''\n",
    "    return ' '.join(re.sub(\"(@[A-Za-z0-9]+)|([^0-9A-Za-z \\t])|(\\w+:\\/\\/\\S+)\", \" \", tweet).split())\n",
    "\n",
    "def analize_sentiment(tweet):\n",
    "    '''\n",
    "    Utility function to classify the polarity of a tweet\n",
    "    using textblob.\n",
    "    '''\n",
    "    analysis = TextBlob(clean_tweet(tweet))\n",
    "    if analysis.sentiment.polarity > 0:\n",
    "        return 1\n",
    "    elif analysis.sentiment.polarity == 0:\n",
    "        return 0\n",
    "    else:\n",
    "        return -1"
   ]
  },
  {
   "cell_type": "code",
   "execution_count": 20,
   "metadata": {},
   "outputs": [],
   "source": [
    "data['SA'] = np.array([ analize_sentiment(tweet) for tweet in data['Tweets'] ])"
   ]
  },
  {
   "cell_type": "code",
   "execution_count": null,
   "metadata": {},
   "outputs": [],
   "source": [
    "display(data.head(10))"
   ]
  },
  {
   "cell_type": "code",
   "execution_count": null,
   "metadata": {},
   "outputs": [],
   "source": [
    "pos_tweets = [ tweet for index, tweet in enumerate(data['Tweets']) if data['SA'][index] > 0]\n",
    "neu_tweets = [ tweet for index, tweet in enumerate(data['Tweets']) if data['SA'][index] == 0]\n",
    "neg_tweets = [ tweet for index, tweet in enumerate(data['Tweets']) if data['SA'][index] < 0]"
   ]
  },
  {
   "cell_type": "code",
   "execution_count": 34,
   "metadata": {},
   "outputs": [
    {
     "name": "stdout",
     "output_type": "stream",
     "text": [
      "Percentage of positive tweets: 50.0%\n",
      "Percentage of neutral tweets: 35.0%\n",
      "Percentage de negative tweets: 15.0%\n"
     ]
    }
   ],
   "source": [
    "print(\"Percentage of positive tweets: {}%\".format(len(pos_tweets)*100/len(data['Tweets'])))\n",
    "print(\"Percentage of neutral tweets: {}%\".format(len(neu_tweets)*100/len(data['Tweets'])))\n",
    "print(\"Percentage de negative tweets: {}%\".format(len(neg_tweets)*100/len(data['Tweets'])))"
   ]
  },
  {
   "cell_type": "code",
   "execution_count": null,
   "metadata": {},
   "outputs": [],
   "source": []
  }
 ],
 "metadata": {
  "anaconda-cloud": {},
  "kernelspec": {
   "display_name": "Python 3",
   "language": "python",
   "name": "python3"
  },
  "language_info": {
   "codemirror_mode": {
    "name": "ipython",
    "version": 3
   },
   "file_extension": ".py",
   "mimetype": "text/x-python",
   "name": "python",
   "nbconvert_exporter": "python",
   "pygments_lexer": "ipython3",
   "version": "3.7.1"
  }
 },
 "nbformat": 4,
 "nbformat_minor": 2
}
